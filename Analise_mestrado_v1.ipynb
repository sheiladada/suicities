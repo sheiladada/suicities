{
 "cells": [
  {
   "cell_type": "markdown",
   "metadata": {},
   "source": [
    "# RODAR Calcula taxas de suicidio que desejamos para as cidades: Por idade ajustada (total)\n",
    "Por ajuste de idade e sexo (total)\n",
    "Separada por sexo, fazer a idade ajustada"
   ]
  },
  {
   "cell_type": "code",
   "execution_count": 1,
   "metadata": {},
   "outputs": [],
   "source": [
    "import pandas as pd\n",
    "import numpy as np\n",
    "import math\n",
    "from datetime import datetime\n",
    "import matplotlib.pyplot as plt\n",
    "import seaborn as sns\n",
    "import geopandas as gpd\n",
    "from mpl_toolkits.axes_grid1 import make_axes_locatable\n",
    "from mpl_toolkits.axes_grid1 import make_axes_locatable"
   ]
  },
  {
   "cell_type": "markdown",
   "metadata": {},
   "source": [
    "# NÃO RODAR - FASE 01: DATA PREP - Importa bases"
   ]
  },
  {
   "cell_type": "markdown",
   "metadata": {},
   "source": [
    "#### Cadmun (latitude e longitude)"
   ]
  },
  {
   "cell_type": "markdown",
   "metadata": {},
   "source": [
    "Tive que substituir todas as \",\" por \".\" no arquivo csv para ler corretamente o que eu queria"
   ]
  },
  {
   "cell_type": "code",
   "execution_count": null,
   "metadata": {},
   "outputs": [],
   "source": [
    "cadmun_final= pd.read_csv('cadmun_final.csv', header = 0, low_memory=False, index_col=False, sep=';', encoding='latin-1')"
   ]
  },
  {
   "cell_type": "code",
   "execution_count": null,
   "metadata": {},
   "outputs": [],
   "source": [
    "#cadmun_final.head()"
   ]
  },
  {
   "cell_type": "code",
   "execution_count": null,
   "metadata": {},
   "outputs": [],
   "source": [
    "cadmun_final.dtypes\n",
    "#MUNCOD          int64\n",
    "#SUCESSOR      float64\n",
    "#LATITUDE      float64\n",
    "#LONGITUDE     float64\n",
    "#ALTITUDE      float64\n",
    "#AREA          float64"
   ]
  },
  {
   "cell_type": "markdown",
   "metadata": {},
   "source": [
    "Valida se tem duplicado"
   ]
  },
  {
   "cell_type": "code",
   "execution_count": null,
   "metadata": {},
   "outputs": [],
   "source": [
    "#print(cadmun_final.MUNCOD.count(), cadmun_final.MUNCOD.nunique() )"
   ]
  },
  {
   "cell_type": "code",
   "execution_count": null,
   "metadata": {},
   "outputs": [],
   "source": [
    "#type(cadmun_final.LATITUDE.iloc[1000]+2)"
   ]
  },
  {
   "cell_type": "code",
   "execution_count": null,
   "metadata": {},
   "outputs": [],
   "source": [
    "#cadmun_final.LATITUDE.iloc[1000]"
   ]
  },
  {
   "cell_type": "markdown",
   "metadata": {},
   "source": [
    "#### distribuicao_populacao_idade_sexo_censo_2010: substitui todos os \",\" por ."
   ]
  },
  {
   "cell_type": "code",
   "execution_count": null,
   "metadata": {},
   "outputs": [],
   "source": [
    "distribuicao_populacao_idade_sexo_censo_2010= pd.read_csv('distribuicao_populacao_idade_sexo_censo_2010.csv', header = 0, low_memory=False, index_col=False, sep=';', encoding='latin-1')"
   ]
  },
  {
   "cell_type": "code",
   "execution_count": null,
   "metadata": {},
   "outputs": [],
   "source": [
    "#distribuicao_populacao_idade_sexo_censo_2010.head()"
   ]
  },
  {
   "cell_type": "code",
   "execution_count": null,
   "metadata": {},
   "outputs": [],
   "source": [
    "#distribuicao_populacao_idade_sexo_censo_2010.dtypes"
   ]
  },
  {
   "cell_type": "markdown",
   "metadata": {},
   "source": [
    "#### media_populacao_who: substitui todos os \",\" por ."
   ]
  },
  {
   "cell_type": "code",
   "execution_count": null,
   "metadata": {},
   "outputs": [],
   "source": [
    "media_populacao_who= pd.read_csv('media_populacao_who.csv', header = 0, low_memory=False, index_col=False, sep=';', encoding='latin-1')"
   ]
  },
  {
   "cell_type": "code",
   "execution_count": null,
   "metadata": {},
   "outputs": [],
   "source": [
    "#media_populacao_who.head()"
   ]
  },
  {
   "cell_type": "code",
   "execution_count": null,
   "metadata": {},
   "outputs": [],
   "source": [
    "#media_populacao_who.dtypes"
   ]
  },
  {
   "cell_type": "markdown",
   "metadata": {},
   "source": [
    "#### populacao: coloquei populacao na mao com o sexo \"Ignorado\", para bater com suicidio"
   ]
  },
  {
   "cell_type": "code",
   "execution_count": null,
   "metadata": {},
   "outputs": [],
   "source": [
    "populacao= pd.read_csv('populacao.csv', header = 0, low_memory=False, index_col=False, sep=';', encoding='latin-1')"
   ]
  },
  {
   "cell_type": "code",
   "execution_count": null,
   "metadata": {},
   "outputs": [],
   "source": [
    "#populacao.head()"
   ]
  },
  {
   "cell_type": "code",
   "execution_count": null,
   "metadata": {},
   "outputs": [],
   "source": [
    "#populacao.dtypes"
   ]
  },
  {
   "cell_type": "code",
   "execution_count": null,
   "metadata": {},
   "outputs": [],
   "source": [
    "#print(populacao.cod_mun.count(), populacao.cod_mun.nunique() )"
   ]
  },
  {
   "cell_type": "markdown",
   "metadata": {},
   "source": [
    "5659 cadmun também é 5659"
   ]
  },
  {
   "cell_type": "code",
   "execution_count": null,
   "metadata": {},
   "outputs": [],
   "source": [
    "#valida0 = populacao[~populacao.cod_mun.isin(cadmun_final.MUNCOD)]"
   ]
  },
  {
   "cell_type": "code",
   "execution_count": null,
   "metadata": {},
   "outputs": [],
   "source": [
    "#valida0"
   ]
  },
  {
   "cell_type": "code",
   "execution_count": null,
   "metadata": {},
   "outputs": [],
   "source": [
    "#valida0 = cadmun_final[~cadmun_final.MUNCOD.isin(populacao.cod_mun)]"
   ]
  },
  {
   "cell_type": "code",
   "execution_count": null,
   "metadata": {},
   "outputs": [],
   "source": [
    "#valida0"
   ]
  },
  {
   "cell_type": "markdown",
   "metadata": {},
   "source": [
    "#### rural_urbano: adicionei uma coluna com o muncod com 6 digitos ao invés de 7"
   ]
  },
  {
   "cell_type": "code",
   "execution_count": null,
   "metadata": {},
   "outputs": [],
   "source": [
    "rural_urbano= pd.read_csv('rural_urbano.csv', header = 0, low_memory=False, index_col=False, sep=';', encoding='latin-1')"
   ]
  },
  {
   "cell_type": "code",
   "execution_count": null,
   "metadata": {},
   "outputs": [],
   "source": [
    "#rural_urbano.head()"
   ]
  },
  {
   "cell_type": "code",
   "execution_count": null,
   "metadata": {},
   "outputs": [],
   "source": [
    "#rural_urbano.dtypes"
   ]
  },
  {
   "cell_type": "code",
   "execution_count": null,
   "metadata": {},
   "outputs": [],
   "source": [
    "#print(rural_urbano.MUNCOD.count(), rural_urbano.MUNCOD.nunique() )"
   ]
  },
  {
   "cell_type": "markdown",
   "metadata": {},
   "source": [
    "Não tem a classificação para todos os municípios... cadmun tem 5.659... vamos descobrir quais são eles"
   ]
  },
  {
   "cell_type": "code",
   "execution_count": null,
   "metadata": {},
   "outputs": [],
   "source": [
    "#valida1 = cadmun_final[~cadmun_final.MUNCOD.isin(rural_urbano.MUNCOD)]"
   ]
  },
  {
   "cell_type": "code",
   "execution_count": null,
   "metadata": {},
   "outputs": [],
   "source": [
    "#valida1.to_csv('valida_municipio_sem_rural_urbano.csv')"
   ]
  },
  {
   "cell_type": "markdown",
   "metadata": {},
   "source": [
    "#### suicidio: verifiquei sexo e tudo ok"
   ]
  },
  {
   "cell_type": "code",
   "execution_count": null,
   "metadata": {},
   "outputs": [],
   "source": [
    "suicidio= pd.read_csv('suicidio.csv', header = 0, low_memory=False, index_col=False, sep=';', encoding='latin-1')"
   ]
  },
  {
   "cell_type": "code",
   "execution_count": null,
   "metadata": {},
   "outputs": [],
   "source": [
    "#suicidio.head()"
   ]
  },
  {
   "cell_type": "code",
   "execution_count": null,
   "metadata": {},
   "outputs": [],
   "source": [
    "#suicidio.dtypes"
   ]
  },
  {
   "cell_type": "code",
   "execution_count": null,
   "metadata": {},
   "outputs": [],
   "source": [
    "#print(suicidio.cod_ibge_num.count(), suicidio.cod_ibge_num.nunique() )"
   ]
  },
  {
   "cell_type": "markdown",
   "metadata": {},
   "source": [
    "Tem menos municipio que a cadmin... cadmun tem 5.659... vamos descobrir quais são"
   ]
  },
  {
   "cell_type": "markdown",
   "metadata": {},
   "source": [
    "Primeira validação: descobrir se tem algum município da cadmun que não está aqui"
   ]
  },
  {
   "cell_type": "code",
   "execution_count": null,
   "metadata": {},
   "outputs": [],
   "source": [
    "#valida2 = cadmun_final[~cadmun_final.MUNCOD.isin(suicidio.cod_ibge_num)]"
   ]
  },
  {
   "cell_type": "code",
   "execution_count": null,
   "metadata": {},
   "outputs": [],
   "source": [
    "#valida2.to_csv('valida2_esta_cadmun_naoesta_suicidio.csv')"
   ]
  },
  {
   "cell_type": "markdown",
   "metadata": {},
   "source": [
    "62 municípios que foram transferidos ou extintos que não estão na base de suicidio"
   ]
  },
  {
   "cell_type": "markdown",
   "metadata": {},
   "source": [
    "Agora avalio quem está no suicidio e não está na cadmun"
   ]
  },
  {
   "cell_type": "code",
   "execution_count": null,
   "metadata": {},
   "outputs": [],
   "source": [
    "#valida3 = suicidio[~suicidio.cod_ibge_num.isin(cadmun_final.MUNCOD)]"
   ]
  },
  {
   "cell_type": "code",
   "execution_count": null,
   "metadata": {},
   "outputs": [],
   "source": [
    "#valida3.to_csv('valida3_esta_suicidio_naoesta_cadmun.csv')"
   ]
  },
  {
   "cell_type": "markdown",
   "metadata": {},
   "source": [
    "Nenhum, que bom"
   ]
  },
  {
   "cell_type": "markdown",
   "metadata": {},
   "source": [
    "### Cruza base a partir da população"
   ]
  },
  {
   "cell_type": "code",
   "execution_count": null,
   "metadata": {},
   "outputs": [],
   "source": [
    "#print(populacao.cod_mun.count(), populacao.cod_mun.nunique() )"
   ]
  },
  {
   "cell_type": "code",
   "execution_count": null,
   "metadata": {},
   "outputs": [],
   "source": [
    "#populacao[populacao.cod_mun == 355030] "
   ]
  },
  {
   "cell_type": "code",
   "execution_count": null,
   "metadata": {},
   "outputs": [],
   "source": [
    "#suicidio[suicidio.cod_ibge_num == 355030] "
   ]
  },
  {
   "cell_type": "code",
   "execution_count": null,
   "metadata": {},
   "outputs": [],
   "source": [
    "populacao_suicidio1=populacao.copy(deep=True)"
   ]
  },
  {
   "cell_type": "code",
   "execution_count": null,
   "metadata": {},
   "outputs": [],
   "source": [
    "populacao_suicidio1=populacao_suicidio1.merge(suicidio, left_on=['cod_mun', 'ano', 'sexo'], right_on=['cod_ibge_num', 'ano', 'sexo'], how='left', suffixes=('_pop', '_suic'))  "
   ]
  },
  {
   "cell_type": "code",
   "execution_count": null,
   "metadata": {},
   "outputs": [],
   "source": [
    "#populacao_suicidio1[populacao_suicidio1.cod_ibge_num == 355030] "
   ]
  },
  {
   "cell_type": "code",
   "execution_count": null,
   "metadata": {},
   "outputs": [],
   "source": [
    "#populacao_suicidio1[populacao_suicidio1.cod_ibge_num.isin([355030,317010,130356])].to_csv('valida7_cruzamento_municipios.csv')"
   ]
  },
  {
   "cell_type": "code",
   "execution_count": null,
   "metadata": {},
   "outputs": [],
   "source": [
    "#print(populacao_suicidio1.cod_mun.count(), populacao_suicidio1.cod_mun.nunique() )"
   ]
  },
  {
   "cell_type": "code",
   "execution_count": null,
   "metadata": {},
   "outputs": [],
   "source": [
    "populacao_suicidio1=populacao_suicidio1.fillna(0)"
   ]
  },
  {
   "cell_type": "code",
   "execution_count": null,
   "metadata": {},
   "outputs": [],
   "source": [
    "#populacao_suicidio1[populacao_suicidio1.cod_ibge_num.isin([355030,317010,130356])].to_csv('valida8_cruzamento_municipios_fillna.csv')"
   ]
  },
  {
   "cell_type": "markdown",
   "metadata": {},
   "source": [
    "Cruzou certo, validados os csvs"
   ]
  },
  {
   "cell_type": "markdown",
   "metadata": {},
   "source": [
    "#### Cruza proporções"
   ]
  },
  {
   "cell_type": "code",
   "execution_count": null,
   "metadata": {},
   "outputs": [],
   "source": [
    "#populacao_suicidio1.dtypes"
   ]
  },
  {
   "cell_type": "code",
   "execution_count": null,
   "metadata": {},
   "outputs": [],
   "source": [
    "populacao_suicidio1=populacao_suicidio1.merge(\n",
    "distribuicao_populacao_idade_sexo_censo_2010, on=['sexo'], how='left', suffixes=('', '_propcenso'))  "
   ]
  },
  {
   "cell_type": "code",
   "execution_count": null,
   "metadata": {},
   "outputs": [],
   "source": [
    "#populacao_suicidio1.dtypes"
   ]
  },
  {
   "cell_type": "code",
   "execution_count": null,
   "metadata": {},
   "outputs": [],
   "source": [
    "populacao_suicidio1=populacao_suicidio1.fillna(0)"
   ]
  },
  {
   "cell_type": "code",
   "execution_count": null,
   "metadata": {},
   "outputs": [],
   "source": [
    "populacao_suicidio1_fem=populacao_suicidio1[populacao_suicidio1.sexo=='feminino']"
   ]
  },
  {
   "cell_type": "code",
   "execution_count": null,
   "metadata": {},
   "outputs": [],
   "source": [
    "#populacao_suicidio1_fem.count()"
   ]
  },
  {
   "cell_type": "code",
   "execution_count": null,
   "metadata": {},
   "outputs": [],
   "source": [
    "populacao_suicidio1_masc=populacao_suicidio1[populacao_suicidio1.sexo=='masculino']"
   ]
  },
  {
   "cell_type": "code",
   "execution_count": null,
   "metadata": {},
   "outputs": [],
   "source": [
    "#populacao_suicidio1_masc.count()"
   ]
  },
  {
   "cell_type": "code",
   "execution_count": null,
   "metadata": {},
   "outputs": [],
   "source": [
    "populacao_suicidio2 = populacao_suicidio1.groupby(['ano','cod_mun']).agg(\n",
    "                        pop_total=('total_pop','sum'),\n",
    "                        pop_0_a_4_anos=('0_a_4_anos_pop','sum'),\n",
    "                        pop_5_a_14_anos=('5_a_14_anos_pop','sum'),\n",
    "                        pop_15_a_24_anos=('15_a_24_anos_pop','sum'),\n",
    "                        pop_25_a_34_anos=('25_a_34_anos_pop','sum'),\n",
    "                        pop_35_a_44_anos=('35_a_44_anos_pop','sum'),\n",
    "                        pop_45_a_54_anos=('45_a_54_anos_pop','sum'),\n",
    "                        pop_55_a_64_anos=('55_a_64_anos_pop','sum'),\n",
    "                        pop_65_a_74_anos=('65_a_74_anos_pop','sum'),\n",
    "                        pop_75_anos_e_mais=('75_anos_e_mais_pop','sum'),\n",
    "                        pop_idade_ignorada=('idade_ignorada_pop','sum'),\n",
    "                        suic_total=('total_suic','sum'),\n",
    "                        suic_0_a_4_anos=('0_a_4_anos_suic','sum'),\n",
    "                        suic_5_a_14_anos=('5_a_14_anos_suic','sum'),\n",
    "                        suic_15_a_24_anos=('15_a_24_anos_suic','sum'),\n",
    "                        suic_25_a_34_anos=('25_a_34_anos_suic','sum'),\n",
    "                        suic_35_a_44_anos=('35_a_44_anos_suic','sum'),\n",
    "                        suic_45_a_54_anos=('45_a_54_anos_suic','sum'),\n",
    "                        suic_55_a_64_anos=('55_a_64_anos_suic','sum'),\n",
    "                        suic_65_a_74_anos=('65_a_74_anos_suic','sum'),\n",
    "                        suic_75_anos_e_mais=('75_anos_e_mais_suic','sum'),\n",
    "                        suic_idade_ignorada=('idade_ignorada_suic','sum')\n",
    "                        ).reset_index()"
   ]
  },
  {
   "cell_type": "markdown",
   "metadata": {},
   "source": [
    "#### Validações da agregação"
   ]
  },
  {
   "cell_type": "code",
   "execution_count": null,
   "metadata": {},
   "outputs": [],
   "source": [
    "#valida1 = populacao_suicidio2.copy()"
   ]
  },
  {
   "cell_type": "code",
   "execution_count": null,
   "metadata": {},
   "outputs": [],
   "source": [
    "#valida1['pop_valida_total'] = (-valida1.pop_total+\n",
    "#valida1.pop_0_a_4_anos+\n",
    "#valida1.pop_5_a_14_anos+\n",
    "#valida1.pop_15_a_24_anos+\n",
    "#valida1.pop_25_a_34_anos+\n",
    "#valida1.pop_35_a_44_anos+\n",
    "#valida1.pop_45_a_54_anos+\n",
    "#valida1.pop_55_a_64_anos+\n",
    "#valida1.pop_65_a_74_anos+\n",
    "#valida1.pop_75_anos_e_mais+\n",
    "#valida1.pop_idade_ignorada\n",
    "#)\n"
   ]
  },
  {
   "cell_type": "code",
   "execution_count": null,
   "metadata": {},
   "outputs": [],
   "source": [
    "#valida1.pop_valida_total.nunique()"
   ]
  },
  {
   "cell_type": "code",
   "execution_count": null,
   "metadata": {},
   "outputs": [],
   "source": [
    "#valida1.pop_valida_total.unique()"
   ]
  },
  {
   "cell_type": "code",
   "execution_count": null,
   "metadata": {},
   "outputs": [],
   "source": [
    "#valida1['suic_valida_total'] = (-valida1.suic_total+\n",
    "#valida1.suic_0_a_4_anos+\n",
    "#valida1.suic_5_a_14_anos+\n",
    "#valida1.suic_15_a_24_anos+\n",
    "#valida1.suic_25_a_34_anos+\n",
    "#valida1.suic_35_a_44_anos+\n",
    "#valida1.suic_45_a_54_anos+\n",
    "#valida1.suic_55_a_64_anos+\n",
    "#valida1.suic_65_a_74_anos+\n",
    "#valida1.suic_75_anos_e_mais+\n",
    "#valida1.suic_idade_ignorada\n",
    "#)\n"
   ]
  },
  {
   "cell_type": "code",
   "execution_count": null,
   "metadata": {},
   "outputs": [],
   "source": [
    "#valida1.suic_valida_total.nunique()"
   ]
  },
  {
   "cell_type": "code",
   "execution_count": null,
   "metadata": {},
   "outputs": [],
   "source": [
    "#valida1.suic_valida_total.unique()"
   ]
  },
  {
   "cell_type": "markdown",
   "metadata": {},
   "source": [
    "Valida com os arquivos csv"
   ]
  },
  {
   "cell_type": "code",
   "execution_count": null,
   "metadata": {},
   "outputs": [],
   "source": [
    "#valida2=valida1.groupby(['ano'])['pop_total','suic_total'].sum()"
   ]
  },
  {
   "cell_type": "code",
   "execution_count": null,
   "metadata": {},
   "outputs": [],
   "source": [
    "#valida2.to_csv('valida10_valida_totais.csv')"
   ]
  },
  {
   "cell_type": "markdown",
   "metadata": {},
   "source": [
    "Tudo validado com arquivos originais"
   ]
  },
  {
   "cell_type": "markdown",
   "metadata": {},
   "source": [
    "#### Coloca proporção who na tabela"
   ]
  },
  {
   "cell_type": "code",
   "execution_count": null,
   "metadata": {},
   "outputs": [],
   "source": [
    "populacao_suicidio2['propwho_0_a_4_anos'] = media_populacao_who['0_a_4_anos'].iloc[0]\n",
    "populacao_suicidio2['propwho_5_a_14_anos'] = media_populacao_who['5_a_14_anos'].iloc[0]\n",
    "populacao_suicidio2['propwho_15_a_24_anos'] = media_populacao_who['15_a_24_anos'].iloc[0]\n",
    "populacao_suicidio2['propwho_25_a_34_anos'] = media_populacao_who['25_a_34_anos'].iloc[0]\n",
    "populacao_suicidio2['propwho_35_a_44_anos'] = media_populacao_who['35_a_44_anos'].iloc[0]\n",
    "populacao_suicidio2['propwho_45_a_54_anos'] = media_populacao_who['45_a_54_anos'].iloc[0]\n",
    "populacao_suicidio2['propwho_55_a_64_anos'] = media_populacao_who['55_a_64_anos'].iloc[0]\n",
    "populacao_suicidio2['propwho_65_a_74_anos'] = media_populacao_who['65_a_74_anos'].iloc[0]\n",
    "populacao_suicidio2['propwho_75_anos_e_mais'] = media_populacao_who['75_anos_e_mais'].iloc[0]"
   ]
  },
  {
   "cell_type": "markdown",
   "metadata": {},
   "source": [
    "#### Renomeia colunas de masculino e feminino"
   ]
  },
  {
   "cell_type": "code",
   "execution_count": null,
   "metadata": {},
   "outputs": [],
   "source": [
    "#populacao_suicidio1_masc.dtypes"
   ]
  },
  {
   "cell_type": "code",
   "execution_count": null,
   "metadata": {},
   "outputs": [],
   "source": [
    "populacao_suicidio2_masc = populacao_suicidio1_masc.rename(\n",
    "        columns={'total_pop':'pop_total_masc',\n",
    "'0_a_4_anos_pop':'pop_0_a_4_anos_masc',\n",
    "'5_a_14_anos_pop':'pop_5_a_14_anos_masc',\n",
    "'15_a_24_anos_pop':'pop_15_a_24_anos_masc',\n",
    "'25_a_34_anos_pop':'pop_25_a_34_anos_masc',\n",
    "'35_a_44_anos_pop':'pop_35_a_44_anos_masc',\n",
    "'45_a_54_anos_pop':'pop_45_a_54_anos_masc',\n",
    "'55_a_64_anos_pop':'pop_55_a_64_anos_masc',\n",
    "'65_a_74_anos_pop':'pop_65_a_74_anos_masc',\n",
    "'75_anos_e_mais_pop':'pop_75_anos_e_mais_masc',\n",
    "'idade_ignorada_pop':'pop_idade_ignorada_masc',\n",
    "'total_suic':'suic_total_masc',\n",
    "'0_a_4_anos_suic':'suic_0_a_4_anos_masc',\n",
    "'5_a_14_anos_suic':'suic_5_a_14_anos_masc',\n",
    "'15_a_24_anos_suic':'suic_15_a_24_anos_masc',\n",
    "'25_a_34_anos_suic':'suic_25_a_34_anos_masc',\n",
    "'35_a_44_anos_suic':'suic_35_a_44_anos_masc',\n",
    "'45_a_54_anos_suic':'suic_45_a_54_anos_masc',\n",
    "'55_a_64_anos_suic':'suic_55_a_64_anos_masc',\n",
    "'65_a_74_anos_suic':'suic_65_a_74_anos_masc',\n",
    "'75_anos_e_mais_suic':'suic_75_anos_e_mais_masc',\n",
    "'idade_ignorada_suic':'suic_idade_ignorada_masc',\n",
    "'0_a_4_anos':'prop_0_a_4_anos_masc',\n",
    "'5_a_14_anos':'prop_5_a_14_anos_masc',\n",
    "'15_a_24_anos':'prop_15_a_24_anos_masc',\n",
    "'25_a_34_anos':'prop_25_a_34_anos_masc',\n",
    "'35_a_44_anos':'prop_35_a_44_anos_masc',\n",
    "'45_a_54_anos':'prop_45_a_54_anos_masc',\n",
    "'55_a_64_anos':'prop_55_a_64_anos_masc',\n",
    "'65_a_74_anos':'prop_65_a_74_anos_masc',\n",
    "'75_anos_e_mais':'prop_75_anos_e_mais_masc'\n",
    "        }    \n",
    "        ,inplace=False)"
   ]
  },
  {
   "cell_type": "code",
   "execution_count": null,
   "metadata": {},
   "outputs": [],
   "source": [
    "populacao_suicidio2_fem = populacao_suicidio1_fem.rename(\n",
    "        columns={'total_pop':'pop_total_fem',\n",
    "        '0_a_4_anos_pop':'pop_0_a_4_anos_fem',\n",
    "        '5_a_14_anos_pop':'pop_5_a_14_anos_fem',\n",
    "        '15_a_24_anos_pop':'pop_15_a_24_anos_fem',\n",
    "        '25_a_34_anos_pop':'pop_25_a_34_anos_fem',\n",
    "        '35_a_44_anos_pop':'pop_35_a_44_anos_fem',\n",
    "        '45_a_54_anos_pop':'pop_45_a_54_anos_fem',\n",
    "        '55_a_64_anos_pop':'pop_55_a_64_anos_fem',\n",
    "        '65_a_74_anos_pop':'pop_65_a_74_anos_fem',\n",
    "        '75_anos_e_mais_pop':'pop_75_anos_e_mais_fem',\n",
    "        'idade_ignorada_pop':'pop_idade_ignorada_fem',\n",
    "        'total_suic':'suic_total_fem',\n",
    "        '0_a_4_anos_suic':'suic_0_a_4_anos_fem',\n",
    "        '5_a_14_anos_suic':'suic_5_a_14_anos_fem',\n",
    "        '15_a_24_anos_suic':'suic_15_a_24_anos_fem',\n",
    "        '25_a_34_anos_suic':'suic_25_a_34_anos_fem',\n",
    "        '35_a_44_anos_suic':'suic_35_a_44_anos_fem',\n",
    "        '45_a_54_anos_suic':'suic_45_a_54_anos_fem',\n",
    "        '55_a_64_anos_suic':'suic_55_a_64_anos_fem',\n",
    "        '65_a_74_anos_suic':'suic_65_a_74_anos_fem',\n",
    "        '75_anos_e_mais_suic':'suic_75_anos_e_mais_fem',\n",
    "        'idade_ignorada_suic':'suic_idade_ignorada_fem',\n",
    "        '0_a_4_anos':'prop_0_a_4_anos_fem',\n",
    "        '5_a_14_anos':'prop_5_a_14_anos_fem',\n",
    "        '15_a_24_anos':'prop_15_a_24_anos_fem',\n",
    "        '25_a_34_anos':'prop_25_a_34_anos_fem',\n",
    "        '35_a_44_anos':'prop_35_a_44_anos_fem',\n",
    "        '45_a_54_anos':'prop_45_a_54_anos_fem',\n",
    "        '55_a_64_anos':'prop_55_a_64_anos_fem',\n",
    "        '65_a_74_anos':'prop_65_a_74_anos_fem',\n",
    "        '75_anos_e_mais':'prop_75_anos_e_mais_fem'\n",
    "        }    \n",
    "        ,inplace=False)"
   ]
  },
  {
   "cell_type": "code",
   "execution_count": null,
   "metadata": {},
   "outputs": [],
   "source": [
    "#populacao_suicidio2.count()"
   ]
  },
  {
   "cell_type": "code",
   "execution_count": null,
   "metadata": {},
   "outputs": [],
   "source": [
    "populacao_suicidio3=populacao_suicidio2.merge(populacao_suicidio2_masc, on=['cod_mun', 'ano'],  how='left')"
   ]
  },
  {
   "cell_type": "code",
   "execution_count": null,
   "metadata": {},
   "outputs": [],
   "source": [
    "#populacao_suicidio3.describe()"
   ]
  },
  {
   "cell_type": "code",
   "execution_count": null,
   "metadata": {},
   "outputs": [],
   "source": [
    "#populacao_suicidio3.head(5).to_csv('valida11_ve_se_merge.csv')"
   ]
  },
  {
   "cell_type": "code",
   "execution_count": null,
   "metadata": {},
   "outputs": [],
   "source": [
    "populacao_suicidio3=populacao_suicidio3.merge(populacao_suicidio2_fem, on=['cod_mun', 'ano'],  how='left')"
   ]
  },
  {
   "cell_type": "code",
   "execution_count": null,
   "metadata": {},
   "outputs": [],
   "source": [
    "#populacao_suicidio3.head(5).to_csv('valida12_ve_se_merge.csv')"
   ]
  },
  {
   "cell_type": "code",
   "execution_count": null,
   "metadata": {},
   "outputs": [],
   "source": [
    "#populacao_suicidio3.to_csv('valida13_backup.csv')"
   ]
  },
  {
   "cell_type": "code",
   "execution_count": null,
   "metadata": {},
   "outputs": [],
   "source": [
    "#populacao_suicidio3.ano.count()"
   ]
  },
  {
   "cell_type": "markdown",
   "metadata": {},
   "source": [
    "Ok, não aumentou linhas"
   ]
  },
  {
   "cell_type": "markdown",
   "metadata": {},
   "source": [
    "#### Adiciona colunas das tabelas de geo etc"
   ]
  },
  {
   "cell_type": "code",
   "execution_count": null,
   "metadata": {},
   "outputs": [],
   "source": [
    "populacao_suicidio4=populacao_suicidio3.merge(rural_urbano, left_on=['cod_mun'], right_on=['MUNCOD'], how='left') "
   ]
  },
  {
   "cell_type": "code",
   "execution_count": null,
   "metadata": {},
   "outputs": [],
   "source": [
    "#populacao_suicidio4.ano.count()"
   ]
  },
  {
   "cell_type": "code",
   "execution_count": null,
   "metadata": {},
   "outputs": [],
   "source": [
    "populacao_suicidio4=populacao_suicidio4.merge(cadmun_final[['MUNCOD', 'LATITUDE','LONGITUDE','ALTITUDE','AREA','SITUACAO','UFCOD','CAPITAL','MUNNOME','MUNNOMEX']], left_on=['cod_mun'], right_on=['MUNCOD'], how='left') "
   ]
  },
  {
   "cell_type": "code",
   "execution_count": null,
   "metadata": {},
   "outputs": [],
   "source": [
    "#populacao_suicidio4.head(5).to_csv('valida14_qtd_campos.csv')"
   ]
  },
  {
   "cell_type": "code",
   "execution_count": null,
   "metadata": {},
   "outputs": [],
   "source": [
    "#populacao_suicidio4.to_csv('valida15_backup.csv')"
   ]
  },
  {
   "cell_type": "markdown",
   "metadata": {},
   "source": [
    "#### Taxa ajustada"
   ]
  },
  {
   "cell_type": "code",
   "execution_count": null,
   "metadata": {},
   "outputs": [],
   "source": [
    "populacao_suicidio4['taxa_padronizada']= ((\n",
    "    (populacao_suicidio4.suic_0_a_4_anos/populacao_suicidio4.pop_0_a_4_anos).replace(np.inf,0).fillna(0)*populacao_suicidio4.propwho_0_a_4_anos+\n",
    "    (populacao_suicidio4.suic_5_a_14_anos/populacao_suicidio4.pop_5_a_14_anos).replace(np.inf,0).fillna(0)*populacao_suicidio4.propwho_5_a_14_anos +\n",
    "    (populacao_suicidio4.suic_15_a_24_anos/populacao_suicidio4.pop_15_a_24_anos).replace(np.inf,0).fillna(0)*populacao_suicidio4.propwho_15_a_24_anos +\n",
    "    (populacao_suicidio4.suic_25_a_34_anos/populacao_suicidio4.pop_25_a_34_anos).replace(np.inf,0).fillna(0)*populacao_suicidio4.propwho_25_a_34_anos +\n",
    "    (populacao_suicidio4.suic_35_a_44_anos/populacao_suicidio4.pop_35_a_44_anos).replace(np.inf,0).fillna(0)*populacao_suicidio4.propwho_35_a_44_anos +\n",
    "    (populacao_suicidio4.suic_45_a_54_anos/populacao_suicidio4.pop_45_a_54_anos).replace(np.inf,0).fillna(0)*populacao_suicidio4.propwho_45_a_54_anos +\n",
    "    (populacao_suicidio4.suic_55_a_64_anos/populacao_suicidio4.pop_55_a_64_anos).replace(np.inf,0).fillna(0)*populacao_suicidio4.propwho_55_a_64_anos +\n",
    "    (populacao_suicidio4.suic_65_a_74_anos/populacao_suicidio4.pop_65_a_74_anos).replace(np.inf,0).fillna(0)*populacao_suicidio4.propwho_65_a_74_anos +\n",
    "    (populacao_suicidio4.suic_75_anos_e_mais/populacao_suicidio4.pop_75_anos_e_mais).replace(np.inf,0).fillna(0)*populacao_suicidio4.propwho_75_anos_e_mais\n",
    ")*100000)"
   ]
  },
  {
   "cell_type": "code",
   "execution_count": null,
   "metadata": {},
   "outputs": [],
   "source": [
    "populacao_suicidio4[['taxa_padronizada','cod_mun','MUNNOMEX','ano']].to_csv('valida18_ranking_taxa.csv')"
   ]
  },
  {
   "cell_type": "code",
   "execution_count": null,
   "metadata": {},
   "outputs": [],
   "source": [
    "populacao_suicidio4[populacao_suicidio4.cod_mun==510779].to_csv('valida19_taxa_alta.csv')"
   ]
  },
  {
   "cell_type": "markdown",
   "metadata": {},
   "source": [
    "Valida e conta parece certa, agora seria bacana validar o valida19_taxa_alta com as bases originais só para ver se bate.\n",
    "510779 com 1 suicidio faixa 65 anos em 2005. Taxa deu 246,1905: cálculo bateu e valores bati com tabnet... tudo está correto."
   ]
  },
  {
   "cell_type": "code",
   "execution_count": null,
   "metadata": {},
   "outputs": [],
   "source": [
    "populacao_suicidio4.dtypes.to_csv('valida20_campos.csv')"
   ]
  },
  {
   "cell_type": "code",
   "execution_count": null,
   "metadata": {},
   "outputs": [],
   "source": [
    "populacao_suicidio4['taxa_padronizada_masc']= ((\n",
    "    (populacao_suicidio4.suic_0_a_4_anos_masc/populacao_suicidio4.pop_0_a_4_anos_masc).replace(np.inf,0).fillna(0)*populacao_suicidio4.propwho_0_a_4_anos+\n",
    "    (populacao_suicidio4.suic_5_a_14_anos_masc/populacao_suicidio4.pop_5_a_14_anos_masc).replace(np.inf,0).fillna(0)*populacao_suicidio4.propwho_5_a_14_anos +\n",
    "    (populacao_suicidio4.suic_15_a_24_anos_masc/populacao_suicidio4.pop_15_a_24_anos_masc).replace(np.inf,0).fillna(0)*populacao_suicidio4.propwho_15_a_24_anos +\n",
    "    (populacao_suicidio4.suic_25_a_34_anos_masc/populacao_suicidio4.pop_25_a_34_anos_masc).replace(np.inf,0).fillna(0)*populacao_suicidio4.propwho_25_a_34_anos +\n",
    "    (populacao_suicidio4.suic_35_a_44_anos_masc/populacao_suicidio4.pop_35_a_44_anos_masc).replace(np.inf,0).fillna(0)*populacao_suicidio4.propwho_35_a_44_anos +\n",
    "    (populacao_suicidio4.suic_45_a_54_anos_masc/populacao_suicidio4.pop_45_a_54_anos_masc).replace(np.inf,0).fillna(0)*populacao_suicidio4.propwho_45_a_54_anos +\n",
    "    (populacao_suicidio4.suic_55_a_64_anos_masc/populacao_suicidio4.pop_55_a_64_anos_masc).replace(np.inf,0).fillna(0)*populacao_suicidio4.propwho_55_a_64_anos +\n",
    "    (populacao_suicidio4.suic_65_a_74_anos_masc/populacao_suicidio4.pop_65_a_74_anos_masc).replace(np.inf,0).fillna(0)*populacao_suicidio4.propwho_65_a_74_anos +\n",
    "    (populacao_suicidio4.suic_75_anos_e_mais_masc/populacao_suicidio4.pop_75_anos_e_mais_masc).replace(np.inf,0).fillna(0)*populacao_suicidio4.propwho_75_anos_e_mais\n",
    ")*100000)"
   ]
  },
  {
   "cell_type": "code",
   "execution_count": null,
   "metadata": {},
   "outputs": [],
   "source": [
    "populacao_suicidio4['taxa_padronizada_fem']= ((\n",
    "    (populacao_suicidio4.suic_0_a_4_anos_fem/populacao_suicidio4.pop_0_a_4_anos_fem).replace(np.inf,0).fillna(0)*populacao_suicidio4.propwho_0_a_4_anos+\n",
    "    (populacao_suicidio4.suic_5_a_14_anos_fem/populacao_suicidio4.pop_5_a_14_anos_fem).replace(np.inf,0).fillna(0)*populacao_suicidio4.propwho_5_a_14_anos +\n",
    "    (populacao_suicidio4.suic_15_a_24_anos_fem/populacao_suicidio4.pop_15_a_24_anos_fem).replace(np.inf,0).fillna(0)*populacao_suicidio4.propwho_15_a_24_anos +\n",
    "    (populacao_suicidio4.suic_25_a_34_anos_fem/populacao_suicidio4.pop_25_a_34_anos_fem).replace(np.inf,0).fillna(0)*populacao_suicidio4.propwho_25_a_34_anos +\n",
    "    (populacao_suicidio4.suic_35_a_44_anos_fem/populacao_suicidio4.pop_35_a_44_anos_fem).replace(np.inf,0).fillna(0)*populacao_suicidio4.propwho_35_a_44_anos +\n",
    "    (populacao_suicidio4.suic_45_a_54_anos_fem/populacao_suicidio4.pop_45_a_54_anos_fem).replace(np.inf,0).fillna(0)*populacao_suicidio4.propwho_45_a_54_anos +\n",
    "    (populacao_suicidio4.suic_55_a_64_anos_fem/populacao_suicidio4.pop_55_a_64_anos_fem).replace(np.inf,0).fillna(0)*populacao_suicidio4.propwho_55_a_64_anos +\n",
    "    (populacao_suicidio4.suic_65_a_74_anos_fem/populacao_suicidio4.pop_65_a_74_anos_fem).replace(np.inf,0).fillna(0)*populacao_suicidio4.propwho_65_a_74_anos +\n",
    "    (populacao_suicidio4.suic_75_anos_e_mais_fem/populacao_suicidio4.pop_75_anos_e_mais_fem).replace(np.inf,0).fillna(0)*populacao_suicidio4.propwho_75_anos_e_mais\n",
    ")*100000)"
   ]
  },
  {
   "cell_type": "code",
   "execution_count": null,
   "metadata": {},
   "outputs": [],
   "source": [
    "populacao_suicidio4['taxa_padronizada_sexo_idade']= ((\n",
    "    (populacao_suicidio4.suic_0_a_4_anos_masc/populacao_suicidio4.pop_0_a_4_anos_masc).replace(np.inf,0).fillna(0)*populacao_suicidio4.prop_0_a_4_anos_masc+\n",
    "    (populacao_suicidio4.suic_5_a_14_anos_masc/populacao_suicidio4.pop_5_a_14_anos_masc).replace(np.inf,0).fillna(0)*populacao_suicidio4.prop_5_a_14_anos_masc +\n",
    "    (populacao_suicidio4.suic_15_a_24_anos_masc/populacao_suicidio4.pop_15_a_24_anos_masc).replace(np.inf,0).fillna(0)*populacao_suicidio4.prop_15_a_24_anos_masc +\n",
    "    (populacao_suicidio4.suic_25_a_34_anos_masc/populacao_suicidio4.pop_25_a_34_anos_masc).replace(np.inf,0).fillna(0)*populacao_suicidio4.prop_25_a_34_anos_masc +\n",
    "    (populacao_suicidio4.suic_35_a_44_anos_masc/populacao_suicidio4.pop_35_a_44_anos_masc).replace(np.inf,0).fillna(0)*populacao_suicidio4.prop_35_a_44_anos_masc +\n",
    "    (populacao_suicidio4.suic_45_a_54_anos_masc/populacao_suicidio4.pop_45_a_54_anos_masc).replace(np.inf,0).fillna(0)*populacao_suicidio4.prop_45_a_54_anos_masc +\n",
    "    (populacao_suicidio4.suic_55_a_64_anos_masc/populacao_suicidio4.pop_55_a_64_anos_masc).replace(np.inf,0).fillna(0)*populacao_suicidio4.prop_55_a_64_anos_masc +\n",
    "    (populacao_suicidio4.suic_65_a_74_anos_masc/populacao_suicidio4.pop_65_a_74_anos_masc).replace(np.inf,0).fillna(0)*populacao_suicidio4.prop_65_a_74_anos_masc +\n",
    "    (populacao_suicidio4.suic_75_anos_e_mais_masc/populacao_suicidio4.pop_75_anos_e_mais_masc).replace(np.inf,0).fillna(0)*populacao_suicidio4.prop_75_anos_e_mais_masc+\n",
    "    \n",
    "    (populacao_suicidio4.suic_0_a_4_anos_fem/populacao_suicidio4.pop_0_a_4_anos_fem).replace(np.inf,0).fillna(0)*populacao_suicidio4.prop_0_a_4_anos_fem+\n",
    "    (populacao_suicidio4.suic_5_a_14_anos_fem/populacao_suicidio4.pop_5_a_14_anos_fem).replace(np.inf,0).fillna(0)*populacao_suicidio4.prop_5_a_14_anos_fem +\n",
    "    (populacao_suicidio4.suic_15_a_24_anos_fem/populacao_suicidio4.pop_15_a_24_anos_fem).replace(np.inf,0).fillna(0)*populacao_suicidio4.prop_15_a_24_anos_fem +\n",
    "    (populacao_suicidio4.suic_25_a_34_anos_fem/populacao_suicidio4.pop_25_a_34_anos_fem).replace(np.inf,0).fillna(0)*populacao_suicidio4.prop_25_a_34_anos_fem +\n",
    "    (populacao_suicidio4.suic_35_a_44_anos_fem/populacao_suicidio4.pop_35_a_44_anos_fem).replace(np.inf,0).fillna(0)*populacao_suicidio4.prop_35_a_44_anos_fem +\n",
    "    (populacao_suicidio4.suic_45_a_54_anos_fem/populacao_suicidio4.pop_45_a_54_anos_fem).replace(np.inf,0).fillna(0)*populacao_suicidio4.prop_45_a_54_anos_fem +\n",
    "    (populacao_suicidio4.suic_55_a_64_anos_fem/populacao_suicidio4.pop_55_a_64_anos_fem).replace(np.inf,0).fillna(0)*populacao_suicidio4.prop_55_a_64_anos_fem +\n",
    "    (populacao_suicidio4.suic_65_a_74_anos_fem/populacao_suicidio4.pop_65_a_74_anos_fem).replace(np.inf,0).fillna(0)*populacao_suicidio4.prop_65_a_74_anos_fem +\n",
    "    (populacao_suicidio4.suic_75_anos_e_mais_fem/populacao_suicidio4.pop_75_anos_e_mais_fem).replace(np.inf,0).fillna(0)*populacao_suicidio4.prop_75_anos_e_mais_fem\n",
    ")*100000)"
   ]
  },
  {
   "cell_type": "code",
   "execution_count": null,
   "metadata": {},
   "outputs": [],
   "source": [
    "populacao_suicidio4.to_csv('base_suicidio_final.csv')"
   ]
  },
  {
   "cell_type": "markdown",
   "metadata": {},
   "source": [
    " # Análise exploratória - COMEÇA A RODAR AQUI 17/10/2021 (Etapa anterior só dá join entre bases"
   ]
  },
  {
   "cell_type": "code",
   "execution_count": null,
   "metadata": {},
   "outputs": [],
   "source": [
    "suicidio = pd.read_csv('base_suicidio_final.csv', header = 0, low_memory=False, index_col=[0], sep=',', encoding='latin-1')\n",
    "infos_mun = gpd.read_file('bcim_2016_21_11_2018.gpkg', layer='lim_municipio_a')"
   ]
  },
  {
   "cell_type": "code",
   "execution_count": null,
   "metadata": {},
   "outputs": [],
   "source": [
    "#Como instalar geopandas:\n",
    "#https://www.youtube.com/watch?v=JpgJtdZuI6s\n",
    "#https://www.lfd.uci.edu/~gohlke/pythonlibs/#fiona\n",
    "#shapely estava com instalação passada, tive que desinstalar pacote e instalar de novo\n",
    "#Para desinstalar pacote:\n",
    "#pip uninstall awscli"
   ]
  },
  {
   "cell_type": "code",
   "execution_count": null,
   "metadata": {},
   "outputs": [],
   "source": [
    "#help(gpd)"
   ]
  },
  {
   "cell_type": "code",
   "execution_count": null,
   "metadata": {},
   "outputs": [],
   "source": [
    "#infos_mun = gpd.read_file('bcim_2016_21_11_2018.gpkg', layer='lim_municipio_a')"
   ]
  },
  {
   "cell_type": "code",
   "execution_count": null,
   "metadata": {},
   "outputs": [],
   "source": [
    "#infos_mun.columns"
   ]
  },
  {
   "cell_type": "code",
   "execution_count": null,
   "metadata": {},
   "outputs": [],
   "source": [
    "#print(\"Municipio :\"+ infos_mun.nome[2] )\n",
    "#infos_mun.geometry[2]"
   ]
  },
  {
   "cell_type": "code",
   "execution_count": null,
   "metadata": {},
   "outputs": [],
   "source": [
    "#geocodigo é o código do IBGE"
   ]
  },
  {
   "cell_type": "code",
   "execution_count": null,
   "metadata": {},
   "outputs": [],
   "source": [
    "#infos_mun[infos_mun.geocodigo== '2104305']\n",
    "#https://www.ibge.gov.br/explica/codigos-dos-municipios.php\n",
    "#2104305 Godofredo Viana\n",
    "#2102606 Cândido Mendes"
   ]
  },
  {
   "cell_type": "code",
   "execution_count": null,
   "metadata": {},
   "outputs": [],
   "source": [
    "#infos_mun[infos_mun.nome== 'Cândido Mendes']"
   ]
  },
  {
   "cell_type": "code",
   "execution_count": null,
   "metadata": {},
   "outputs": [],
   "source": [
    "#infos_mun[infos_mun.geocodigo== '2102606']"
   ]
  },
  {
   "cell_type": "code",
   "execution_count": null,
   "metadata": {},
   "outputs": [],
   "source": [
    "#suicidio.iloc[0]"
   ]
  },
  {
   "cell_type": "code",
   "execution_count": null,
   "metadata": {},
   "outputs": [],
   "source": [
    "#a minha cod_mun encontra o código que eu deveria encontrar\n",
    "#suicidio[suicidio.cod_mun== 210430]"
   ]
  },
  {
   "cell_type": "code",
   "execution_count": null,
   "metadata": {},
   "outputs": [],
   "source": [
    "#a minha cod_mun encontra o código que eu deveria encontrar\n",
    "#suicidio[suicidio.cod_mun== 210260]"
   ]
  },
  {
   "cell_type": "code",
   "execution_count": null,
   "metadata": {},
   "outputs": [],
   "source": [
    "#infos_mun.dtypes"
   ]
  },
  {
   "cell_type": "markdown",
   "metadata": {},
   "source": [
    "### RODAR 17/10/21: Arruma mapa"
   ]
  },
  {
   "cell_type": "code",
   "execution_count": null,
   "metadata": {},
   "outputs": [],
   "source": [
    "mapa = infos_mun.copy()\n",
    "mapa = mapa[['nome','geocodigo','geometry']]\n",
    "mapa['cod_mun']=mapa['geocodigo'].str[:6]\n",
    "mapa.at[5552,'geocodigo']='2102606'\n",
    "mapa.at[5552,'cod_mun']='210260'\n",
    "mapa['geocodigo']=mapa['geocodigo'].astype(str)\n",
    "mapa = mapa[mapa.geocodigo != 'None']\n",
    "mapa2=mapa.copy()\n",
    "mapa2['geocodigo']=mapa2['geocodigo'].astype(int)\n",
    "mapa2['cod_mun']=mapa2['cod_mun'].astype(int)"
   ]
  },
  {
   "cell_type": "code",
   "execution_count": null,
   "metadata": {},
   "outputs": [],
   "source": []
  },
  {
   "cell_type": "code",
   "execution_count": null,
   "metadata": {},
   "outputs": [],
   "source": []
  },
  {
   "cell_type": "code",
   "execution_count": null,
   "metadata": {},
   "outputs": [],
   "source": [
    "#só duplicou o que já estava duplicado\n",
    "#print(mapa.cod_mun.count(), mapa.cod_mun.nunique() )"
   ]
  },
  {
   "cell_type": "code",
   "execution_count": null,
   "metadata": {},
   "outputs": [],
   "source": [
    "#altero o duplicado\n",
    "# código que deve ser 2102606"
   ]
  },
  {
   "cell_type": "code",
   "execution_count": null,
   "metadata": {},
   "outputs": [],
   "source": [
    "#mapa.iloc[5552]"
   ]
  },
  {
   "cell_type": "code",
   "execution_count": null,
   "metadata": {},
   "outputs": [],
   "source": []
  },
  {
   "cell_type": "code",
   "execution_count": null,
   "metadata": {},
   "outputs": [],
   "source": [
    "#mapa.iloc[5552]"
   ]
  },
  {
   "cell_type": "code",
   "execution_count": null,
   "metadata": {},
   "outputs": [],
   "source": [
    "#só alterou em mapa, está ótimo\n",
    "#infos_mun.iloc[5552]"
   ]
  },
  {
   "cell_type": "code",
   "execution_count": null,
   "metadata": {},
   "outputs": [],
   "source": [
    "#ok, agora não encontro duplicado\n",
    "#print(mapa.cod_mun.count(), mapa.cod_mun.nunique() )"
   ]
  },
  {
   "cell_type": "code",
   "execution_count": null,
   "metadata": {},
   "outputs": [],
   "source": [
    "#print(suicidio.cod_mun.count(), suicidio.cod_mun.nunique() )"
   ]
  },
  {
   "cell_type": "code",
   "execution_count": null,
   "metadata": {},
   "outputs": [],
   "source": [
    "#suicidio.head(1).to_csv('valida21_campos_suicidio.csv')"
   ]
  },
  {
   "cell_type": "code",
   "execution_count": null,
   "metadata": {},
   "outputs": [],
   "source": [
    "#mapa.dtypes"
   ]
  },
  {
   "cell_type": "code",
   "execution_count": null,
   "metadata": {},
   "outputs": [],
   "source": [
    "#mapa.groupby(['geocodigo'])[['geocodigo']].count().rename(columns={'geocodigo':'qtd_codigo'}).to_csv('valida22_tipo_geo.csv')"
   ]
  },
  {
   "cell_type": "code",
   "execution_count": null,
   "metadata": {},
   "outputs": [],
   "source": [
    "\n",
    "#mapa['cod_mun']=mapa['cod_mun'].astype(int)"
   ]
  },
  {
   "cell_type": "code",
   "execution_count": null,
   "metadata": {},
   "outputs": [],
   "source": [
    "#for index,row in mapa.iterrows():\n",
    "#    try:\n",
    "#        int(row['geocodigo'])\n",
    "#    except:\n",
    "#        print('nao converteu ', row['geocodigo'])"
   ]
  },
  {
   "cell_type": "code",
   "execution_count": null,
   "metadata": {},
   "outputs": [],
   "source": [
    "#mapa[mapa.geocodigo=='None']"
   ]
  },
  {
   "cell_type": "code",
   "execution_count": null,
   "metadata": {},
   "outputs": [],
   "source": [
    "#Tira nulo"
   ]
  },
  {
   "cell_type": "code",
   "execution_count": null,
   "metadata": {},
   "outputs": [],
   "source": []
  },
  {
   "cell_type": "code",
   "execution_count": null,
   "metadata": {},
   "outputs": [],
   "source": [
    "#mapa[mapa.geocodigo=='None']"
   ]
  },
  {
   "cell_type": "code",
   "execution_count": null,
   "metadata": {},
   "outputs": [],
   "source": []
  },
  {
   "cell_type": "code",
   "execution_count": null,
   "metadata": {},
   "outputs": [],
   "source": []
  },
  {
   "cell_type": "code",
   "execution_count": null,
   "metadata": {},
   "outputs": [],
   "source": [
    "#mapa2.dtypes"
   ]
  },
  {
   "cell_type": "code",
   "execution_count": null,
   "metadata": {},
   "outputs": [],
   "source": []
  },
  {
   "cell_type": "markdown",
   "metadata": {},
   "source": [
    "## Não precisa rodar: Coloca quantis em uma base agrupada por cod_mun"
   ]
  },
  {
   "cell_type": "code",
   "execution_count": null,
   "metadata": {},
   "outputs": [],
   "source": [
    "#suicidio.head(5)"
   ]
  },
  {
   "cell_type": "code",
   "execution_count": null,
   "metadata": {},
   "outputs": [],
   "source": [
    "#suicidio.head(5).to_csv('valida30_boxplotcidade.csv')"
   ]
  },
  {
   "cell_type": "code",
   "execution_count": null,
   "metadata": {},
   "outputs": [],
   "source": [
    "def q25(x):\n",
    "    return x.quantile(0.25)\n",
    "\n",
    "def q50(x):\n",
    "    return x.quantile(0.50)\n",
    "\n",
    "def q75(x):\n",
    "    return x.quantile(0.75)\n",
    "\n",
    "def q90(x):\n",
    "    return x.quantile(0.90)"
   ]
  },
  {
   "cell_type": "code",
   "execution_count": null,
   "metadata": {},
   "outputs": [],
   "source": [
    "suicidio_agregado = suicidio.groupby(['cod_mun']).agg(min_taxa=('taxa_padronizada', 'min'),\n",
    "                                                            max_taxa=('taxa_padronizada','max'),\n",
    "                                                            media_taxa=('taxa_padronizada','mean'),\n",
    "                                                            q25_taxa=('taxa_padronizada',q25),\n",
    "                                                            q50_taxa=('taxa_padronizada',q50),\n",
    "                                                            q75_taxa=('taxa_padronizada',q75),\n",
    "                                                            q90_taxa=('taxa_padronizada',q90), \n",
    "                                                            valida_anos=('ano','count'),\n",
    "                                                            valida_anos_unico=('ano','nunique'),\n",
    "                                                            max_suic=('suic_total','max'),\n",
    "                                                            min_suic=('suic_total','min'),\n",
    "                                                            media_suic=('suic_total','mean'),\n",
    "                                                            q25_suic=('suic_total',q25),\n",
    "                                                            q50_suic=('suic_total',q50),\n",
    "                                                            q75_suic=('suic_total',q75),\n",
    "                                                            q90_suic=('suic_total',q90),\n",
    "                                                            max_pop_total=('pop_total', 'max')\n",
    "                                                             ).reset_index()"
   ]
  },
  {
   "cell_type": "markdown",
   "metadata": {},
   "source": [
    "## NÃO PRECISA RODAR: AVALIA EM NÚMEROS O QUE SERIA O OUTLIER"
   ]
  },
  {
   "cell_type": "code",
   "execution_count": null,
   "metadata": {},
   "outputs": [],
   "source": [
    "suicidio_agregado.to_csv('valida31_municipio.csv')"
   ]
  },
  {
   "cell_type": "code",
   "execution_count": null,
   "metadata": {},
   "outputs": [],
   "source": [
    "suicidio_agregado.head(5)"
   ]
  },
  {
   "cell_type": "code",
   "execution_count": null,
   "metadata": {},
   "outputs": [],
   "source": [
    "#valida se base está criada certo"
   ]
  },
  {
   "cell_type": "code",
   "execution_count": null,
   "metadata": {},
   "outputs": [],
   "source": [
    "suicidio_agregado.loc[suicidio_agregado['valida_anos'] != suicidio_agregado['valida_anos_unico']]"
   ]
  },
  {
   "cell_type": "code",
   "execution_count": null,
   "metadata": {},
   "outputs": [],
   "source": [
    "suicidio_agregado.cod_mun.count()"
   ]
  },
  {
   "cell_type": "code",
   "execution_count": null,
   "metadata": {},
   "outputs": [],
   "source": [
    "suicidio_agregado.loc[suicidio_agregado['q25_taxa'] ==0].cod_mun.count()"
   ]
  },
  {
   "cell_type": "code",
   "execution_count": null,
   "metadata": {},
   "outputs": [],
   "source": [
    "suicidio_agregado.loc[suicidio_agregado['max_taxa'] ==0].cod_mun.count()"
   ]
  },
  {
   "cell_type": "code",
   "execution_count": null,
   "metadata": {},
   "outputs": [],
   "source": [
    "suicidio_agregado.loc[suicidio_agregado['max_taxa'] >40].cod_mun.count()"
   ]
  },
  {
   "cell_type": "code",
   "execution_count": null,
   "metadata": {},
   "outputs": [],
   "source": [
    "suicidio_agregado.loc[(suicidio_agregado['max_taxa'] >40) & (suicidio_agregado['q25_taxa'] !=0)].cod_mun.count()"
   ]
  },
  {
   "cell_type": "code",
   "execution_count": null,
   "metadata": {},
   "outputs": [],
   "source": [
    "#110045"
   ]
  },
  {
   "cell_type": "code",
   "execution_count": null,
   "metadata": {},
   "outputs": [],
   "source": [
    "suicidio_agregado.loc[suicidio_agregado['cod_mun'] ==110045]"
   ]
  },
  {
   "cell_type": "code",
   "execution_count": null,
   "metadata": {},
   "outputs": [],
   "source": [
    "suicidio.loc[suicidio['cod_mun'] ==110045].to_csv('valida24_cidade.csv')"
   ]
  },
  {
   "cell_type": "code",
   "execution_count": null,
   "metadata": {},
   "outputs": [],
   "source": [
    "suicidio_agregado.loc[(suicidio_agregado['q25_taxa'] ==0) & (suicidio_agregado['q50_taxa'] !=0)].cod_mun.count()"
   ]
  },
  {
   "cell_type": "code",
   "execution_count": null,
   "metadata": {},
   "outputs": [],
   "source": [
    "suicidio_agregado.loc[(suicidio_agregado['q25_taxa'] ==0) & (suicidio_agregado['q50_taxa'] !=0)].sort_values(by='max_taxa', ascending=False)"
   ]
  },
  {
   "cell_type": "code",
   "execution_count": null,
   "metadata": {},
   "outputs": [],
   "source": [
    "suicidio.loc[suicidio['cod_mun'] ==522180].to_csv('valida25_cidade.csv')"
   ]
  },
  {
   "cell_type": "code",
   "execution_count": null,
   "metadata": {},
   "outputs": [],
   "source": [
    "suicidio.loc[suicidio['cod_mun'] ==431475][['ano','cod_mun','pop_total','suic_total','taxa_padronizada']].to_csv('valida27_cidade.csv')"
   ]
  },
  {
   "cell_type": "code",
   "execution_count": null,
   "metadata": {},
   "outputs": [],
   "source": [
    "# quero analisar apenas cidades que tiveram mais de 20 suicídios por ano, igual artigo dos eua"
   ]
  },
  {
   "cell_type": "code",
   "execution_count": null,
   "metadata": {},
   "outputs": [],
   "source": [
    "suicidio_agregado.loc[(suicidio_agregado['max_suic'] >=20)].sort_values(by='max_taxa', ascending=False)"
   ]
  },
  {
   "cell_type": "code",
   "execution_count": null,
   "metadata": {},
   "outputs": [],
   "source": [
    "suicidio.loc[suicidio['cod_mun'] ==250790][['ano','cod_mun','pop_total','suic_total','taxa_padronizada']].to_csv('valida28_cidade.csv')"
   ]
  },
  {
   "cell_type": "code",
   "execution_count": null,
   "metadata": {},
   "outputs": [],
   "source": [
    "suicidio_agregado.loc[(suicidio_agregado['q50_suic'] >=20)].sort_values(by='max_taxa', ascending=False)"
   ]
  },
  {
   "cell_type": "code",
   "execution_count": null,
   "metadata": {},
   "outputs": [],
   "source": [
    "suicidio_agregado.loc[(suicidio_agregado['q50_suic'] >=20)].sort_values(by='max_taxa', ascending=False).cod_mun.count()"
   ]
  },
  {
   "cell_type": "code",
   "execution_count": null,
   "metadata": {},
   "outputs": [],
   "source": [
    "suicidio.loc[suicidio['cod_mun'] ==431410][['ano','cod_mun','pop_total','suic_total','taxa_padronizada']].to_csv('valida29_cidade.csv')"
   ]
  },
  {
   "cell_type": "code",
   "execution_count": null,
   "metadata": {},
   "outputs": [],
   "source": [
    "suicidio_agregado.loc[(suicidio_agregado['min_suic'] >=20)].sort_values(by='max_taxa', ascending=False)"
   ]
  },
  {
   "cell_type": "code",
   "execution_count": null,
   "metadata": {},
   "outputs": [],
   "source": [
    "## max_taxa encontrada é 12.110413, valor que utilizarei para conseguir observar no mapa taxas altas"
   ]
  },
  {
   "cell_type": "code",
   "execution_count": null,
   "metadata": {},
   "outputs": [],
   "source": [
    "suicidio_agregado.loc[(suicidio_agregado['min_suic'] >=20)].sort_values(by='max_taxa', ascending=False).cod_mun.count()"
   ]
  },
  {
   "cell_type": "code",
   "execution_count": null,
   "metadata": {},
   "outputs": [],
   "source": [
    "suicidio_agregado.loc[(suicidio_agregado['min_suic'] >=20)].sort_values(by='max_taxa', ascending=False)"
   ]
  },
  {
   "cell_type": "code",
   "execution_count": null,
   "metadata": {},
   "outputs": [],
   "source": [
    "suicidio_agregado.loc[(suicidio_agregado['q75_suic'] >=20)].sort_values(by='max_taxa', ascending=False)"
   ]
  },
  {
   "cell_type": "code",
   "execution_count": null,
   "metadata": {},
   "outputs": [],
   "source": [
    "suicidio.loc[suicidio['cod_mun'] ==431680][['ano','cod_mun','pop_total','suic_total','taxa_padronizada']].to_csv('valida29_cidade.csv')"
   ]
  },
  {
   "cell_type": "markdown",
   "metadata": {},
   "source": [
    "## RASCUNHO - APAGAR"
   ]
  },
  {
   "cell_type": "code",
   "execution_count": null,
   "metadata": {},
   "outputs": [],
   "source": [
    "suicidio.ano.max()"
   ]
  },
  {
   "cell_type": "code",
   "execution_count": null,
   "metadata": {},
   "outputs": [],
   "source": [
    "suicidio.ano.min()"
   ]
  },
  {
   "cell_type": "code",
   "execution_count": null,
   "metadata": {},
   "outputs": [],
   "source": [
    "suicidio2 = pd.read_csv('base_suicidio_final.csv', header = 0, low_memory=False, index_col=[0], sep=',', encoding='latin-1')"
   ]
  },
  {
   "cell_type": "code",
   "execution_count": null,
   "metadata": {},
   "outputs": [],
   "source": [
    "suicidio2.head()"
   ]
  },
  {
   "cell_type": "code",
   "execution_count": null,
   "metadata": {},
   "outputs": [],
   "source": [
    "# First create some toy data:\n",
    "x = np.linspace(0, 2*np.pi, 400)\n",
    "y = np.sin(x**2)\n",
    "\n"
   ]
  },
  {
   "cell_type": "code",
   "execution_count": null,
   "metadata": {},
   "outputs": [],
   "source": [
    "# Create just a figure and only one subplot\n",
    "fig, ax = plt.subplots(1,1,figsize=(20,30))\n",
    "ax.plot(x, y)\n",
    "ax.set_title('Simple plot')"
   ]
  },
  {
   "cell_type": "markdown",
   "metadata": {},
   "source": [
    "### NÃO PRECISA RODAR: Decidido o que irei fazer: só manter cidades que tem suicidio em 75% dos anos e fixar taxa em 13 (12.110413 foi o valor máximo de suicídio que encontrou na análise das cidades em todos os anos com suicidio acima de 20 unidades brutas - 20 unidades brutas por ano é o que o artigo dos EUA considera um valor bom para considerar significativo).\n",
    "Fixo o valor para ver no mapa como um valor alto e conseguir comparar entre cidades.\n",
    "Se o objetivo é analisar se uma cidade teve algo fora do normal ao longo do tempo, não posso mexer nessa métrica (em que eu coloco um valor máximo). Na análise temporal temos que voltar à base original então."
   ]
  },
  {
   "cell_type": "code",
   "execution_count": null,
   "metadata": {},
   "outputs": [],
   "source": [
    "suicidio.head()"
   ]
  },
  {
   "cell_type": "code",
   "execution_count": null,
   "metadata": {},
   "outputs": [],
   "source": [
    "suicidio_trataoutlier = suicidio.copy()"
   ]
  },
  {
   "cell_type": "code",
   "execution_count": null,
   "metadata": {},
   "outputs": [],
   "source": [
    "mun_considerados=suicidio_agregado.loc[suicidio_agregado['q25_taxa'] !=0][['cod_mun']]"
   ]
  },
  {
   "cell_type": "code",
   "execution_count": null,
   "metadata": {},
   "outputs": [],
   "source": [
    "mun_considerados.count()"
   ]
  },
  {
   "cell_type": "code",
   "execution_count": null,
   "metadata": {},
   "outputs": [],
   "source": [
    "mun_considerados.head()"
   ]
  },
  {
   "cell_type": "code",
   "execution_count": null,
   "metadata": {},
   "outputs": [],
   "source": [
    "#isso dá 21% dos municípios sendo considerados para plotar o mapa"
   ]
  },
  {
   "cell_type": "code",
   "execution_count": null,
   "metadata": {},
   "outputs": [],
   "source": [
    "print(suicidio_trataoutlier.cod_mun.count(), suicidio_trataoutlier.cod_mun.nunique() )"
   ]
  },
  {
   "cell_type": "code",
   "execution_count": null,
   "metadata": {},
   "outputs": [],
   "source": [
    "suicidio_trataoutlier = suicidio_trataoutlier.loc[suicidio_trataoutlier['cod_mun'].isin(mun_considerados.cod_mun)]"
   ]
  },
  {
   "cell_type": "code",
   "execution_count": null,
   "metadata": {},
   "outputs": [],
   "source": [
    "suicidio_trataoutlier.head()"
   ]
  },
  {
   "cell_type": "code",
   "execution_count": null,
   "metadata": {},
   "outputs": [],
   "source": [
    "suicidio_trataoutlier=suicidio_trataoutlier.reset_index(drop=True)"
   ]
  },
  {
   "cell_type": "code",
   "execution_count": null,
   "metadata": {},
   "outputs": [],
   "source": [
    "suicidio_trataoutlier.head()"
   ]
  },
  {
   "cell_type": "code",
   "execution_count": null,
   "metadata": {},
   "outputs": [],
   "source": [
    "print(suicidio_trataoutlier.cod_mun.count(), suicidio_trataoutlier.cod_mun.nunique() )"
   ]
  },
  {
   "cell_type": "code",
   "execution_count": null,
   "metadata": {},
   "outputs": [],
   "source": [
    "suicidio_trataoutlier['taxa_padronizada'] = np.where(suicidio_trataoutlier.taxa_padronizada>13,13,suicidio_trataoutlier.taxa_padronizada)"
   ]
  },
  {
   "cell_type": "code",
   "execution_count": null,
   "metadata": {},
   "outputs": [],
   "source": [
    "suicidio_trataoutlier['taxa_padronizada_sexo_idade'] = np.where(suicidio_trataoutlier.taxa_padronizada_sexo_idade>13,13,suicidio_trataoutlier.taxa_padronizada_sexo_idade)"
   ]
  },
  {
   "cell_type": "code",
   "execution_count": null,
   "metadata": {},
   "outputs": [],
   "source": [
    "suicidio_trataoutlier.to_csv('base_suicidio_outlier_taxa13_quantil25.csv')"
   ]
  },
  {
   "cell_type": "code",
   "execution_count": null,
   "metadata": {},
   "outputs": [],
   "source": [
    "suicidio_trataoutlier.head()"
   ]
  },
  {
   "cell_type": "markdown",
   "metadata": {},
   "source": [
    "## RODAR 17/10/21 - PEGA BASE COM A DEFINIÇÃO DE OUTLIER 01 TRATADA: no mínimo 18 anos com taxa de suicídio e todas as taxas cravadas em no máximo 13."
   ]
  },
  {
   "cell_type": "code",
   "execution_count": null,
   "metadata": {},
   "outputs": [],
   "source": [
    "suicidio_trataoutlier2 = pd.read_csv('base_suicidio_outlier_taxa13_quantil25.csv', header = 0, low_memory=False, index_col=[0], sep=',', encoding='latin-1')"
   ]
  },
  {
   "cell_type": "code",
   "execution_count": null,
   "metadata": {},
   "outputs": [],
   "source": [
    "#suicidio_trataoutlier2.head()"
   ]
  },
  {
   "cell_type": "code",
   "execution_count": null,
   "metadata": {},
   "outputs": [],
   "source": []
  },
  {
   "cell_type": "code",
   "execution_count": null,
   "metadata": {},
   "outputs": [],
   "source": []
  },
  {
   "cell_type": "markdown",
   "metadata": {},
   "source": [
    "## Função que plota mapa genérico, de acordo com as especificações feitas"
   ]
  },
  {
   "cell_type": "code",
   "execution_count": null,
   "metadata": {},
   "outputs": [],
   "source": [
    "#Plota mapa de acordo com o que eu quero"
   ]
  },
  {
   "cell_type": "code",
   "execution_count": null,
   "metadata": {},
   "outputs": [],
   "source": [
    "#from mpl_toolkits.axes_grid1 import make_axes_locatable"
   ]
  },
  {
   "cell_type": "code",
   "execution_count": null,
   "metadata": {},
   "outputs": [],
   "source": [
    "# https://geopandas.org/docs/user_guide/mapping.html ajuda a entender como editar mapas"
   ]
  },
  {
   "cell_type": "code",
   "execution_count": null,
   "metadata": {},
   "outputs": [],
   "source": []
  },
  {
   "cell_type": "code",
   "execution_count": null,
   "metadata": {},
   "outputs": [],
   "source": [
    "def plota_mapa(suicidio, mapa, ano, taxa):\n",
    "    suicidio_ano = suicidio[suicidio.ano == ano][['cod_mun','taxa_padronizada','taxa_padronizada_sexo_idade']]\n",
    "    mapa_ano=mapa.merge(suicidio_ano, on=['cod_mun'], how='left') \n",
    "    #plota com nulo\n",
    "    %matplotlib inline\n",
    "\n",
    "    fig, ax = plt.subplots(1, 1,figsize = (20,30))\n",
    "    \n",
    "    #tentando deixar imagem maior\n",
    "    #ax=fig.add_axes([0, 0.2, 0.6, 0.6])\n",
    "    \n",
    "    #para arrumar legenda\n",
    "    divider= make_axes_locatable(ax)\n",
    "    cax = divider.append_axes(\"right\", size=\"10%\", pad=0.1)\n",
    "    \n",
    "    mapa_ano.plot(column = taxa,\n",
    "                cmap ='RdYlBu_r',\n",
    "                #figsize = (40,20),\n",
    "                ax=ax,\n",
    "                legend = True,\n",
    "                #arrumar proporcao legenda\n",
    "                cax=cax,\n",
    "                #Deixou mapa pequeno\n",
    "                #legend_kwds={'label': taxa,\n",
    "                #            'orientation': 'horizontal'},\n",
    "                edgecolor = 'grey',\n",
    "                missing_kwds={'color':'lightgrey','label':'Missing values'}\n",
    "                )\n",
    "    \n",
    "    #plota como zero\n",
    "    #mapa_ano=mapa_ano.fillna(0)\n",
    "    #%matplotlib inline\n",
    "    #mapa_ano.plot(column = taxa,\n",
    "    #          cmap ='RdYlBu_r',\n",
    "    #          figsize = (40,20),\n",
    "    #          legend = True,\n",
    "    #          edgecolor = 'grey'\n",
    "    #         )\n",
    "    #plt.show()"
   ]
  },
  {
   "cell_type": "code",
   "execution_count": null,
   "metadata": {},
   "outputs": [],
   "source": [
    "plota_mapa(suicidio_trataoutlier2, mapa2, 2010,'taxa_padronizada')"
   ]
  },
  {
   "cell_type": "code",
   "execution_count": null,
   "metadata": {},
   "outputs": [],
   "source": [
    "plota_mapa(suicidio_trataoutlier2, mapa2, 2019,'taxa_padronizada')"
   ]
  },
  {
   "cell_type": "code",
   "execution_count": null,
   "metadata": {},
   "outputs": [],
   "source": [
    "def plota_mapa_comparativo(suicidio, mapa, ano, taxa, ano2):\n",
    "    suicidio_ano_1 = suicidio[suicidio.ano == ano][['cod_mun','taxa_padronizada','taxa_padronizada_sexo_idade']]\n",
    "    suicidio_ano_2 = suicidio[suicidio.ano == ano2][['cod_mun','taxa_padronizada','taxa_padronizada_sexo_idade']]\n",
    "    mapa_ano=mapa.merge(suicidio_ano_1, on=['cod_mun'], how='left')\n",
    "    mapa_ano2=mapa.merge(suicidio_ano_2, on=['cod_mun'], how='left') \n",
    "    #plota com nulo\n",
    "    %matplotlib inline\n",
    "\n",
    "    fig, (ax1,ax2) = plt.subplots(1, 2,figsize = (20,30))\n",
    "    \n",
    "    ##figsize = (20,30)\n",
    "    #tentando deixar imagem maior\n",
    "    #ax=fig.add_axes([0, 0.2, 0.6, 0.6])\n",
    "    \n",
    "    #para arrumar legenda\n",
    "    #divider= make_axes_locatable(ax)\n",
    "    #cax = divider.append_axes(\"right\", size=\"10%\", pad=0.1)\n",
    "    \n",
    "    mapa_ano.plot(column = taxa,\n",
    "                cmap ='RdYlBu_r',\n",
    "                #figsize = (40,20),\n",
    "                ax=ax1,\n",
    "                #legend = True,\n",
    "                #arrumar proporcao legenda\n",
    "                #cax=cax,\n",
    "                #Deixou mapa pequeno\n",
    "                #legend_kwds={'label': taxa,\n",
    "                #            'orientation': 'horizontal'},\n",
    "                edgecolor = 'grey',\n",
    "                missing_kwds={'color':'lightgrey','label':'Missing values'}\n",
    "                )\n",
    "    mapa_ano2.plot(column = taxa,\n",
    "                cmap ='RdYlBu_r',\n",
    "                #figsize = (40,20),\n",
    "                ax=ax2,\n",
    "                #legend = True,\n",
    "                #arrumar proporcao legenda\n",
    "                #cax=cax,\n",
    "                #Deixou mapa pequeno\n",
    "                #legend_kwds={'label': taxa,\n",
    "                #            'orientation': 'horizontal'},\n",
    "                edgecolor = 'grey',\n",
    "                missing_kwds={'color':'lightgrey','label':'Missing values'}\n",
    "                )\n",
    "    \n",
    "    #plota como zero\n",
    "    #mapa_ano=mapa_ano.fillna(0)\n",
    "    #%matplotlib inline\n",
    "    #mapa_ano.plot(column = taxa,\n",
    "    #          cmap ='RdYlBu_r',\n",
    "    #          figsize = (40,20),\n",
    "    #          legend = True,\n",
    "    #          edgecolor = 'grey'\n",
    "    #         )\n",
    "    #plt.show()"
   ]
  },
  {
   "cell_type": "code",
   "execution_count": null,
   "metadata": {},
   "outputs": [],
   "source": [
    "plota_mapa_comparativo(suicidio_trataoutlier2, mapa2, 2010,'taxa_padronizada',2019)"
   ]
  },
  {
   "cell_type": "markdown",
   "metadata": {},
   "source": [
    "## Tentando dar zoom nas UFs para ver o que cresceu"
   ]
  },
  {
   "cell_type": "code",
   "execution_count": null,
   "metadata": {},
   "outputs": [],
   "source": [
    "mapa2.head()"
   ]
  },
  {
   "cell_type": "code",
   "execution_count": null,
   "metadata": {},
   "outputs": [],
   "source": [
    "#ensinando código do municíío do IBGE https://edisciplinas.usp.br/pluginfile.php/4344407/mod_assign/intro/Tabela-Codigo-de-Municipio-do-IBGE.pdf"
   ]
  },
  {
   "cell_type": "code",
   "execution_count": null,
   "metadata": {},
   "outputs": [],
   "source": [
    "mapa2.dtypes"
   ]
  },
  {
   "cell_type": "code",
   "execution_count": null,
   "metadata": {},
   "outputs": [],
   "source": [
    "mapa3 = mapa2.copy()"
   ]
  },
  {
   "cell_type": "code",
   "execution_count": null,
   "metadata": {},
   "outputs": [],
   "source": [
    "mapa3['cod_uf'] = mapa3.cod_mun.astype(str).str[:2].astype(int)"
   ]
  },
  {
   "cell_type": "code",
   "execution_count": null,
   "metadata": {},
   "outputs": [],
   "source": [
    "mapa3['cod_regiao'] = mapa3.cod_mun.astype(str).str[:1].astype(int)"
   ]
  },
  {
   "cell_type": "code",
   "execution_count": null,
   "metadata": {},
   "outputs": [],
   "source": [
    "mapa3.head()"
   ]
  },
  {
   "cell_type": "code",
   "execution_count": null,
   "metadata": {},
   "outputs": [],
   "source": [
    "#seleciona são paulo (olhei no site que plotei acima o código de são paulo)"
   ]
  },
  {
   "cell_type": "code",
   "execution_count": null,
   "metadata": {},
   "outputs": [],
   "source": [
    "#faço com todas as regiões (1,2,3,4,5,6) - Copio imagens para o ppt\n",
    "mapa4 = mapa3.loc[mapa3['cod_regiao'] == 5]\n",
    "#mapa4 = mapa3.loc[mapa3['cod_uf'] == 31]"
   ]
  },
  {
   "cell_type": "code",
   "execution_count": null,
   "metadata": {},
   "outputs": [],
   "source": [
    "plota_mapa(suicidio_trataoutlier2, mapa4, 2010,'taxa_padronizada')"
   ]
  },
  {
   "cell_type": "code",
   "execution_count": null,
   "metadata": {},
   "outputs": [],
   "source": [
    "plota_mapa(suicidio_trataoutlier2, mapa4, 2019,'taxa_padronizada')"
   ]
  },
  {
   "cell_type": "code",
   "execution_count": null,
   "metadata": {},
   "outputs": [],
   "source": [
    "plota_mapa_comparativo(suicidio_trataoutlier2, mapa4, 2010,'taxa_padronizada',2019)"
   ]
  },
  {
   "cell_type": "code",
   "execution_count": null,
   "metadata": {},
   "outputs": [],
   "source": [
    "for i in ()"
   ]
  },
  {
   "cell_type": "code",
   "execution_count": null,
   "metadata": {},
   "outputs": [],
   "source": []
  },
  {
   "cell_type": "code",
   "execution_count": null,
   "metadata": {},
   "outputs": [],
   "source": []
  },
  {
   "cell_type": "markdown",
   "metadata": {},
   "source": [
    "# RODAR PARA CLUSTERIZAÇÃO TEMPORAL -  FAZ VIRAR NO FORMATO NECESSÁRIO PARA CLUSTERIZAÇÃO TEMPORAL"
   ]
  },
  {
   "cell_type": "code",
   "execution_count": null,
   "metadata": {},
   "outputs": [],
   "source": [
    "#suicidio.head()"
   ]
  },
  {
   "cell_type": "code",
   "execution_count": null,
   "metadata": {},
   "outputs": [],
   "source": [
    "# taxa_padronizada"
   ]
  },
  {
   "cell_type": "code",
   "execution_count": null,
   "metadata": {},
   "outputs": [],
   "source": [
    "# Evita casos absurdos"
   ]
  },
  {
   "cell_type": "markdown",
   "metadata": {},
   "source": [
    "## Para a base de suicídio sem retirar nulos por 25% do tempo"
   ]
  },
  {
   "cell_type": "code",
   "execution_count": null,
   "metadata": {},
   "outputs": [],
   "source": [
    "suicidio['taxa_padronizada'] = np.where(suicidio.taxa_padronizada>13,13,suicidio.taxa_padronizada)\n",
    "suicidio2 = suicidio[['cod_mun','ano','taxa_padronizada']].sort_values(by=['cod_mun','ano'], ascending=[True,True])\n",
    "teste = suicidio2.pivot(index='cod_mun', columns='ano', values='taxa_padronizada')\n",
    "teste2 = teste.loc[(teste.sum(axis=1) != 0)]\n",
    "teste_array=teste2.to_numpy()"
   ]
  },
  {
   "cell_type": "code",
   "execution_count": null,
   "metadata": {},
   "outputs": [],
   "source": [
    "#suicidio2 = suicidio[['cod_mun','ano','taxa_padronizada']].sort_values(by=['cod_mun','ano'], ascending=[True,True])"
   ]
  },
  {
   "cell_type": "code",
   "execution_count": null,
   "metadata": {},
   "outputs": [],
   "source": [
    "#suicidio2.head(48)"
   ]
  },
  {
   "cell_type": "code",
   "execution_count": null,
   "metadata": {},
   "outputs": [],
   "source": [
    "#teste = suicidio2.pivot(index='cod_mun', columns='ano', values='taxa_padronizada')"
   ]
  },
  {
   "cell_type": "code",
   "execution_count": null,
   "metadata": {},
   "outputs": [],
   "source": [
    "#teste.dtypes"
   ]
  },
  {
   "cell_type": "code",
   "execution_count": null,
   "metadata": {},
   "outputs": [],
   "source": [
    "#teste.head()"
   ]
  },
  {
   "cell_type": "code",
   "execution_count": null,
   "metadata": {},
   "outputs": [],
   "source": [
    "#print(type(teste))"
   ]
  },
  {
   "cell_type": "code",
   "execution_count": null,
   "metadata": {},
   "outputs": [],
   "source": [
    "#tira linha que soma zero (peguei no google esse código)\n",
    "#https://stackoverflow.com/questions/23573052/pandas-dataframe-how-do-i-remove-all-columns-and-rows-that-sum-to-0"
   ]
  },
  {
   "cell_type": "code",
   "execution_count": null,
   "metadata": {},
   "outputs": [],
   "source": [
    "#teste2 = teste.loc[(teste.sum(axis=1) != 0)]"
   ]
  },
  {
   "cell_type": "code",
   "execution_count": null,
   "metadata": {},
   "outputs": [],
   "source": [
    "#teste2"
   ]
  },
  {
   "cell_type": "code",
   "execution_count": null,
   "metadata": {},
   "outputs": [],
   "source": [
    "#teste_array=teste2.to_numpy()"
   ]
  },
  {
   "cell_type": "code",
   "execution_count": null,
   "metadata": {},
   "outputs": [],
   "source": [
    "teste_array"
   ]
  },
  {
   "cell_type": "code",
   "execution_count": null,
   "metadata": {},
   "outputs": [],
   "source": [
    "len(teste_array)"
   ]
  },
  {
   "cell_type": "markdown",
   "metadata": {},
   "source": [
    "## Utilizando a base que tira municípios com nulos"
   ]
  },
  {
   "cell_type": "code",
   "execution_count": null,
   "metadata": {},
   "outputs": [],
   "source": [
    "suicidio_trataoutlier2.head()"
   ]
  },
  {
   "cell_type": "code",
   "execution_count": null,
   "metadata": {},
   "outputs": [],
   "source": [
    "#verifica se a taxa padronizada está no máximo 13\n",
    "suicidio_trataoutlier2.taxa_padronizada.max()"
   ]
  },
  {
   "cell_type": "code",
   "execution_count": null,
   "metadata": {},
   "outputs": [],
   "source": [
    "base_interm = suicidio_trataoutlier2[['cod_mun','ano','taxa_padronizada']].sort_values(by=['cod_mun','ano'], ascending=[True,True])\n",
    "base_interm2 = base_interm.pivot(index='cod_mun', columns='ano', values='taxa_padronizada')\n",
    "base_interm3 = base_interm2.loc[(base_interm2.sum(axis=1) != 0)]\n",
    "array_suicidio_trataoutlier=base_interm3.to_numpy()"
   ]
  },
  {
   "cell_type": "code",
   "execution_count": null,
   "metadata": {},
   "outputs": [],
   "source": [
    "len(array_suicidio_trataoutlier)"
   ]
  },
  {
   "cell_type": "code",
   "execution_count": null,
   "metadata": {},
   "outputs": [],
   "source": []
  },
  {
   "cell_type": "code",
   "execution_count": null,
   "metadata": {},
   "outputs": [],
   "source": []
  },
  {
   "cell_type": "code",
   "execution_count": null,
   "metadata": {},
   "outputs": [],
   "source": []
  },
  {
   "cell_type": "code",
   "execution_count": null,
   "metadata": {},
   "outputs": [],
   "source": []
  },
  {
   "cell_type": "code",
   "execution_count": null,
   "metadata": {},
   "outputs": [],
   "source": []
  },
  {
   "cell_type": "markdown",
   "metadata": {},
   "source": [
    "##  INÍCIO CLUSTERIZAÇÃO TEMPORAL (PEGUEI DO ARQUIVO DA MESMA PASTA QUE ESTE - PAREI AQUI, FICOU RUIM. PRÓXIMO PASSO É FAZER A MESMA CLUSTERIZAÇÃO COM O TRATAMENTO DE OUTLIER"
   ]
  },
  {
   "cell_type": "code",
   "execution_count": null,
   "metadata": {},
   "outputs": [],
   "source": [
    "import numpy\n",
    "import matplotlib.pyplot as plt\n",
    "from tslearn.clustering import TimeSeriesKMeans\n",
    "from tslearn.datasets import CachedDatasets\n",
    "from tslearn.preprocessing import TimeSeriesScalerMeanVariance, TimeSeriesResampler"
   ]
  },
  {
   "cell_type": "code",
   "execution_count": null,
   "metadata": {},
   "outputs": [],
   "source": [
    "seed = 0\n",
    "numpy.random.seed(seed)"
   ]
  },
  {
   "cell_type": "code",
   "execution_count": null,
   "metadata": {},
   "outputs": [],
   "source": [
    "#normalizo"
   ]
  },
  {
   "cell_type": "code",
   "execution_count": null,
   "metadata": {},
   "outputs": [],
   "source": [
    "#COMPLETAR AQUI COM A BASE QUE EU QUERO!!!!!!!!!!!!!!!!!!!!!!\n",
    "teste_array=array_suicidio_trataoutlier"
   ]
  },
  {
   "cell_type": "code",
   "execution_count": null,
   "metadata": {},
   "outputs": [],
   "source": [
    "len(teste_array)"
   ]
  },
  {
   "cell_type": "code",
   "execution_count": null,
   "metadata": {},
   "outputs": [],
   "source": [
    "teste_array = TimeSeriesScalerMeanVariance().fit_transform(teste_array)"
   ]
  },
  {
   "cell_type": "code",
   "execution_count": null,
   "metadata": {},
   "outputs": [],
   "source": [
    "# Euclidean k-means\n",
    "print(\"Euclidean k-means\")\n",
    "valores_inertia = []\n",
    "\n",
    "for i in range(2, 15):\n",
    "    km = TimeSeriesKMeans(n_clusters=i, verbose=True, random_state=seed)\n",
    "    y_pred = km.fit_predict(teste_array)\n",
    "    valores_inertia.append(km.inertia_)"
   ]
  },
  {
   "cell_type": "code",
   "execution_count": null,
   "metadata": {},
   "outputs": [],
   "source": [
    "#plota o elbow\n",
    "plt.plot(range(2, 15), valores_inertia, '-')\n",
    "plt.axis([1, 15, 0, 30])\n",
    "plt.show()"
   ]
  },
  {
   "cell_type": "code",
   "execution_count": null,
   "metadata": {},
   "outputs": [],
   "source": [
    "#plota um cluster\n",
    "plt.figure()\n",
    "yi=13\n",
    "for xx in teste_array[y_pred == yi]:\n",
    "    #k- é a cor .2 é a grossura da linha\n",
    "    plt.plot(xx.ravel(), \"k-\", alpha=.2)\n",
    "plt.plot(km.cluster_centers_[yi].ravel(), \"r-\")\n",
    "plt.xlim(0, 25)\n",
    "plt.ylim(-4, 4)\n",
    "plt.text(0.55, 0.85,'Cluster %d' % (yi),\n",
    "         transform=plt.gca().transAxes)\n",
    "if yi == 1:\n",
    "    plt.title(\"Euclidean $k$-means\")"
   ]
  },
  {
   "cell_type": "code",
   "execution_count": null,
   "metadata": {},
   "outputs": [],
   "source": [
    "#plota todos os clusters\n",
    "fig=plt.figure(figsize=(30,30))\n",
    "\n",
    "#plota todos os gráficos\n",
    "for yi in range(14):\n",
    "    plt.subplot(5, 3, yi+1)\n",
    "    for xx in teste_array[y_pred == yi]:\n",
    "        plt.plot(xx.ravel(), \"k-\", alpha=.2)\n",
    "    plt.plot(km.cluster_centers_[yi].ravel(), \"r-\")\n",
    "    plt.xlim(0, 24)\n",
    "    plt.ylim(-4, 4)\n",
    "    plt.text(0.55, 0.85,'Cluster %d' % (yi + 1),\n",
    "             transform=plt.gca().transAxes)\n",
    "    if yi == 0:\n",
    "        plt.title(\"DBA $k$-means\")"
   ]
  },
  {
   "cell_type": "code",
   "execution_count": null,
   "metadata": {},
   "outputs": [],
   "source": []
  },
  {
   "cell_type": "markdown",
   "metadata": {},
   "source": [
    "### Agora quero descobrir quais são as cidades que eu pontuei em alguns clusters... principalmente o 14 (que é o 13)"
   ]
  },
  {
   "cell_type": "code",
   "execution_count": null,
   "metadata": {},
   "outputs": [],
   "source": [
    "len(teste_array[y_pred == 13])"
   ]
  },
  {
   "cell_type": "code",
   "execution_count": null,
   "metadata": {},
   "outputs": [],
   "source": [
    "base_interm3\n",
    "#1214 rows"
   ]
  },
  {
   "cell_type": "code",
   "execution_count": null,
   "metadata": {},
   "outputs": [],
   "source": [
    "len(y_pred)"
   ]
  },
  {
   "cell_type": "code",
   "execution_count": null,
   "metadata": {},
   "outputs": [],
   "source": [
    "len(teste_array)"
   ]
  },
  {
   "cell_type": "code",
   "execution_count": null,
   "metadata": {},
   "outputs": [],
   "source": [
    "array_suicidio_trataoutlier[0]"
   ]
  },
  {
   "cell_type": "code",
   "execution_count": null,
   "metadata": {},
   "outputs": [],
   "source": [
    "plt.figure()\n",
    "plt.plot(array_suicidio_trataoutlier[0].ravel(), \"k-\", alpha=.2)"
   ]
  },
  {
   "cell_type": "code",
   "execution_count": null,
   "metadata": {},
   "outputs": [],
   "source": [
    "y_pred[0]"
   ]
  },
  {
   "cell_type": "code",
   "execution_count": null,
   "metadata": {},
   "outputs": [],
   "source": [
    "#plota um cluster\n",
    "plt.figure()\n",
    "yi=13\n",
    "\n",
    "plt.plot(teste_array[0].ravel(), \"k-\", alpha=.2)\n",
    "plt.plot(km.cluster_centers_[12].ravel(), \"r-\")\n",
    "plt.xlim(0, 25)\n",
    "plt.ylim(-4, 4)\n",
    "plt.text(0.55, 0.85,'Cluster %d' % (12),\n",
    "         transform=plt.gca().transAxes)\n",
    "if yi == 1:\n",
    "    plt.title(\"Euclidean $k$-means\")"
   ]
  },
  {
   "cell_type": "code",
   "execution_count": null,
   "metadata": {},
   "outputs": [],
   "source": [
    "base_interm3['cluster'] = y_pred.tolist()"
   ]
  },
  {
   "cell_type": "code",
   "execution_count": null,
   "metadata": {},
   "outputs": [],
   "source": [
    "base_interm3.head()"
   ]
  },
  {
   "cell_type": "code",
   "execution_count": null,
   "metadata": {},
   "outputs": [],
   "source": [
    "base_interm3.to_csv('valida32_cluster_aumento.csv')"
   ]
  },
  {
   "cell_type": "markdown",
   "metadata": {},
   "source": [
    "# Preparando base para análise espacial no SatScan: número esperado de casos"
   ]
  },
  {
   "cell_type": "markdown",
   "metadata": {},
   "source": [
    "No Stascan eles colocaram em uma das variáveis o número esperado de casos. O número esperado é dado se todas as localizações tivessem exatamente a mesma taxa de suicídio. Mais detalhes em: C:\\Users\\marco\\Documents\\20202sem\\Mestrado\\30 - SatScan Teste"
   ]
  },
  {
   "cell_type": "code",
   "execution_count": null,
   "metadata": {},
   "outputs": [],
   "source": [
    "suicidio.head().to_csv('valida33_colunassuicidio.csv')"
   ]
  },
  {
   "cell_type": "code",
   "execution_count": null,
   "metadata": {},
   "outputs": [],
   "source": [
    "#Tenho que tirar os estados aqui, isso vai alterar a conta"
   ]
  },
  {
   "cell_type": "code",
   "execution_count": null,
   "metadata": {},
   "outputs": [],
   "source": [
    "#valida"
   ]
  },
  {
   "cell_type": "code",
   "execution_count": null,
   "metadata": {},
   "outputs": [],
   "source": [
    "LATITUDE"
   ]
  },
  {
   "cell_type": "code",
   "execution_count": null,
   "metadata": {},
   "outputs": [],
   "source": [
    "valida = suicidio[(suicidio.LATITUDE == 0) & (suicidio.LONGITUDE==0)]"
   ]
  },
  {
   "cell_type": "code",
   "execution_count": null,
   "metadata": {},
   "outputs": [],
   "source": [
    "valida.to_csv('valida40_latlongzero.csv')"
   ]
  },
  {
   "cell_type": "code",
   "execution_count": null,
   "metadata": {},
   "outputs": [],
   "source": [
    "valida.count()\n",
    "#1.685 casos"
   ]
  },
  {
   "cell_type": "code",
   "execution_count": null,
   "metadata": {},
   "outputs": [],
   "source": [
    "suicidio.count()\n",
    "#135382 casos"
   ]
  },
  {
   "cell_type": "code",
   "execution_count": null,
   "metadata": {},
   "outputs": [],
   "source": [
    "suicidio_interm = suicidio[((suicidio.LATITUDE != 0) | (suicidio.LONGITUDE != 0)) & (suicidio.LATITUDE.notnull()) & (suicidio.LONGITUDE.notnull())]"
   ]
  },
  {
   "cell_type": "code",
   "execution_count": null,
   "metadata": {},
   "outputs": [],
   "source": [
    "suicidio_interm.count()\n",
    "#133697\n",
    "#ok, validada a conta"
   ]
  },
  {
   "cell_type": "code",
   "execution_count": null,
   "metadata": {},
   "outputs": [],
   "source": [
    "suicidio_interm[suicidio_interm.cod_mun==220095][['cod_mun', 'LATITUDE','LONGITUDE']]"
   ]
  },
  {
   "cell_type": "code",
   "execution_count": null,
   "metadata": {},
   "outputs": [],
   "source": [
    "suicidio_brasil = suicidio_interm.groupby(['ano'])['pop_total','pop_0_a_4_anos','pop_5_a_14_anos','pop_15_a_24_anos',\n",
    "                                            'pop_25_a_34_anos','pop_35_a_44_anos','pop_45_a_54_anos','pop_55_a_64_anos',\n",
    "                                            'pop_65_a_74_anos','pop_75_anos_e_mais','pop_idade_ignorada',\n",
    "                                            'suic_total',\n",
    "                                            'suic_0_a_4_anos','suic_5_a_14_anos','suic_15_a_24_anos','suic_25_a_34_anos',\n",
    "                                            'suic_35_a_44_anos','suic_45_a_54_anos','suic_55_a_64_anos','suic_65_a_74_anos',\n",
    "                                            'suic_75_anos_e_mais','suic_idade_ignorada',\n",
    "                                            'pop_total_masc','pop_0_a_4_anos_masc',\n",
    "                                            'pop_5_a_14_anos_masc','pop_15_a_24_anos_masc','pop_25_a_34_anos_masc',\n",
    "                                            'pop_35_a_44_anos_masc','pop_45_a_54_anos_masc','pop_55_a_64_anos_masc',\n",
    "                                            'pop_65_a_74_anos_masc','pop_75_anos_e_mais_masc','pop_idade_ignorada_masc',\n",
    "                                            'suic_0_a_4_anos_masc','suic_5_a_14_anos_masc','suic_15_a_24_anos_masc',\n",
    "                                            'suic_25_a_34_anos_masc','suic_35_a_44_anos_masc','suic_45_a_54_anos_masc',\n",
    "                                            'suic_55_a_64_anos_masc','suic_65_a_74_anos_masc','suic_75_anos_e_mais_masc',\n",
    "                                            'suic_idade_ignorada_masc','suic_total_masc',\n",
    "                                            'pop_total_fem',\n",
    "                                            'pop_0_a_4_anos_fem','pop_5_a_14_anos_fem','pop_15_a_24_anos_fem',\n",
    "                                            'pop_25_a_34_anos_fem','pop_35_a_44_anos_fem','pop_45_a_54_anos_fem',\n",
    "                                            'pop_55_a_64_anos_fem','pop_65_a_74_anos_fem','pop_75_anos_e_mais_fem',\n",
    "                                            'pop_idade_ignorada_fem','suic_0_a_4_anos_fem','suic_5_a_14_anos_fem',\n",
    "                                            'suic_15_a_24_anos_fem','suic_25_a_34_anos_fem','suic_35_a_44_anos_fem',\n",
    "                                            'suic_45_a_54_anos_fem','suic_55_a_64_anos_fem','suic_65_a_74_anos_fem',\n",
    "                                            'suic_75_anos_e_mais_fem','suic_idade_ignorada_fem','suic_total_fem'].agg('sum').reset_index()\n"
   ]
  },
  {
   "cell_type": "code",
   "execution_count": null,
   "metadata": {},
   "outputs": [],
   "source": [
    "suicidio_brasil.to_csv('valida34_suicidioporanobrasil.csv')"
   ]
  },
  {
   "cell_type": "code",
   "execution_count": null,
   "metadata": {},
   "outputs": [],
   "source": [
    "suicidio_brasil.head()"
   ]
  },
  {
   "cell_type": "code",
   "execution_count": null,
   "metadata": {},
   "outputs": [],
   "source": [
    "#Cria as taxas esperadas no Brasil por ano\n",
    "suicidio_brasil['taxa_esperada_total'] = suicidio_brasil['suic_total']/suicidio_brasil['pop_total']\n",
    "suicidio_brasil['taxa_esperada_0_a_4_anos'] = suicidio_brasil['suic_0_a_4_anos']/suicidio_brasil['pop_0_a_4_anos']\n",
    "suicidio_brasil['taxa_esperada_5_a_14_anos'] = suicidio_brasil['suic_5_a_14_anos']/suicidio_brasil['pop_5_a_14_anos']\n",
    "suicidio_brasil['taxa_esperada_15_a_24_anos'] = suicidio_brasil['suic_15_a_24_anos']/suicidio_brasil['pop_15_a_24_anos']\n",
    "suicidio_brasil['taxa_esperada_25_a_34_anos'] = suicidio_brasil['suic_25_a_34_anos']/suicidio_brasil['pop_25_a_34_anos']\n",
    "suicidio_brasil['taxa_esperada_35_a_44_anos'] = suicidio_brasil['suic_35_a_44_anos']/suicidio_brasil['pop_35_a_44_anos']\n",
    "suicidio_brasil['taxa_esperada_45_a_54_anos'] = suicidio_brasil['suic_45_a_54_anos']/suicidio_brasil['pop_45_a_54_anos']\n",
    "suicidio_brasil['taxa_esperada_55_a_64_anos'] = suicidio_brasil['suic_55_a_64_anos']/suicidio_brasil['pop_55_a_64_anos']\n",
    "suicidio_brasil['taxa_esperada_65_a_74_anos'] = suicidio_brasil['suic_65_a_74_anos']/suicidio_brasil['pop_65_a_74_anos']\n",
    "suicidio_brasil['taxa_esperada_75_anos_e_mais'] = suicidio_brasil['suic_75_anos_e_mais']/suicidio_brasil['pop_75_anos_e_mais']\n",
    "suicidio_brasil['taxa_esperada_idade_ignorada'] = suicidio_brasil['suic_idade_ignorada']/suicidio_brasil['pop_idade_ignorada']\n",
    "suicidio_brasil['taxa_esperada_total_masc'] = suicidio_brasil['suic_total_masc']/suicidio_brasil['pop_total_masc']\n",
    "suicidio_brasil['taxa_esperada_0_a_4_anos_masc'] = suicidio_brasil['suic_0_a_4_anos_masc']/suicidio_brasil['pop_0_a_4_anos_masc']\n",
    "suicidio_brasil['taxa_esperada_5_a_14_anos_masc'] = suicidio_brasil['suic_5_a_14_anos_masc']/suicidio_brasil['pop_5_a_14_anos_masc']\n",
    "suicidio_brasil['taxa_esperada_15_a_24_anos_masc'] = suicidio_brasil['suic_15_a_24_anos_masc']/suicidio_brasil['pop_15_a_24_anos_masc']\n",
    "suicidio_brasil['taxa_esperada_25_a_34_anos_masc'] = suicidio_brasil['suic_25_a_34_anos_masc']/suicidio_brasil['pop_25_a_34_anos_masc']\n",
    "suicidio_brasil['taxa_esperada_35_a_44_anos_masc'] = suicidio_brasil['suic_35_a_44_anos_masc']/suicidio_brasil['pop_35_a_44_anos_masc']\n",
    "suicidio_brasil['taxa_esperada_45_a_54_anos_masc'] = suicidio_brasil['suic_45_a_54_anos_masc']/suicidio_brasil['pop_45_a_54_anos_masc']\n",
    "suicidio_brasil['taxa_esperada_55_a_64_anos_masc'] = suicidio_brasil['suic_55_a_64_anos_masc']/suicidio_brasil['pop_55_a_64_anos_masc']\n",
    "suicidio_brasil['taxa_esperada_65_a_74_anos_masc'] = suicidio_brasil['suic_65_a_74_anos_masc']/suicidio_brasil['pop_65_a_74_anos_masc']\n",
    "suicidio_brasil['taxa_esperada_75_anos_e_mais_masc'] = suicidio_brasil['suic_75_anos_e_mais_masc']/suicidio_brasil['pop_75_anos_e_mais_masc']\n",
    "suicidio_brasil['taxa_esperada_idade_ignorada_masc'] = suicidio_brasil['suic_idade_ignorada_masc']/suicidio_brasil['pop_idade_ignorada_masc']\n",
    "suicidio_brasil['taxa_esperada_total_fem'] = suicidio_brasil['suic_total_fem']/suicidio_brasil['pop_total_fem']\n",
    "suicidio_brasil['taxa_esperada_0_a_4_anos_fem'] = suicidio_brasil['suic_0_a_4_anos_fem']/suicidio_brasil['pop_0_a_4_anos_fem']\n",
    "suicidio_brasil['taxa_esperada_5_a_14_anos_fem'] = suicidio_brasil['suic_5_a_14_anos_fem']/suicidio_brasil['pop_5_a_14_anos_fem']\n",
    "suicidio_brasil['taxa_esperada_15_a_24_anos_fem'] = suicidio_brasil['suic_15_a_24_anos_fem']/suicidio_brasil['pop_15_a_24_anos_fem']\n",
    "suicidio_brasil['taxa_esperada_25_a_34_anos_fem'] = suicidio_brasil['suic_25_a_34_anos_fem']/suicidio_brasil['pop_25_a_34_anos_fem']\n",
    "suicidio_brasil['taxa_esperada_35_a_44_anos_fem'] = suicidio_brasil['suic_35_a_44_anos_fem']/suicidio_brasil['pop_35_a_44_anos_fem']\n",
    "suicidio_brasil['taxa_esperada_45_a_54_anos_fem'] = suicidio_brasil['suic_45_a_54_anos_fem']/suicidio_brasil['pop_45_a_54_anos_fem']\n",
    "suicidio_brasil['taxa_esperada_55_a_64_anos_fem'] = suicidio_brasil['suic_55_a_64_anos_fem']/suicidio_brasil['pop_55_a_64_anos_fem']\n",
    "suicidio_brasil['taxa_esperada_65_a_74_anos_fem'] = suicidio_brasil['suic_65_a_74_anos_fem']/suicidio_brasil['pop_65_a_74_anos_fem']\n",
    "suicidio_brasil['taxa_esperada_75_anos_e_mais_fem'] = suicidio_brasil['suic_75_anos_e_mais_fem']/suicidio_brasil['pop_75_anos_e_mais_fem']\n",
    "suicidio_brasil['taxa_esperada_idade_ignorada_fem'] = suicidio_brasil['suic_idade_ignorada_fem']/suicidio_brasil['pop_idade_ignorada_fem']\n",
    "\n",
    "\n"
   ]
  },
  {
   "cell_type": "code",
   "execution_count": null,
   "metadata": {},
   "outputs": [],
   "source": [
    "suicidio_brasil.to_csv('valida35_taxasesperadas.csv')"
   ]
  },
  {
   "cell_type": "code",
   "execution_count": null,
   "metadata": {},
   "outputs": [],
   "source": [
    "suicidio_brasil = suicidio_brasil[['ano','taxa_esperada_total','taxa_esperada_0_a_4_anos','taxa_esperada_5_a_14_anos',\n",
    "                                   'taxa_esperada_15_a_24_anos','taxa_esperada_25_a_34_anos','taxa_esperada_35_a_44_anos',\n",
    "                                   'taxa_esperada_45_a_54_anos','taxa_esperada_55_a_64_anos','taxa_esperada_65_a_74_anos',\n",
    "                                   'taxa_esperada_75_anos_e_mais','taxa_esperada_idade_ignorada','taxa_esperada_total_masc',\n",
    "                                   'taxa_esperada_0_a_4_anos_masc','taxa_esperada_5_a_14_anos_masc','taxa_esperada_15_a_24_anos_masc',\n",
    "                                   'taxa_esperada_25_a_34_anos_masc','taxa_esperada_35_a_44_anos_masc','taxa_esperada_45_a_54_anos_masc',\n",
    "                                   'taxa_esperada_55_a_64_anos_masc','taxa_esperada_65_a_74_anos_masc','taxa_esperada_75_anos_e_mais_masc',\n",
    "                                   'taxa_esperada_idade_ignorada_masc','taxa_esperada_total_fem','taxa_esperada_0_a_4_anos_fem',\n",
    "                                   'taxa_esperada_5_a_14_anos_fem','taxa_esperada_15_a_24_anos_fem','taxa_esperada_25_a_34_anos_fem',\n",
    "                                   'taxa_esperada_35_a_44_anos_fem','taxa_esperada_45_a_54_anos_fem','taxa_esperada_55_a_64_anos_fem',\n",
    "                                   'taxa_esperada_65_a_74_anos_fem','taxa_esperada_75_anos_e_mais_fem',\n",
    "                                   'taxa_esperada_idade_ignorada_fem']]"
   ]
  },
  {
   "cell_type": "code",
   "execution_count": null,
   "metadata": {},
   "outputs": [],
   "source": [
    "#suicidio_brasil.to_csv('valida36_suicidiobrasil.csv')"
   ]
  },
  {
   "cell_type": "code",
   "execution_count": null,
   "metadata": {},
   "outputs": [],
   "source": [
    "#só usa base que possui lat e long\n",
    "suicidio_intermediario=suicidio_interm.merge(suicidio_brasil, on=['ano'],  how='left')"
   ]
  },
  {
   "cell_type": "markdown",
   "metadata": {},
   "source": [
    "### Valida"
   ]
  },
  {
   "cell_type": "code",
   "execution_count": null,
   "metadata": {},
   "outputs": [],
   "source": [
    "suicidio_intermediario[suicidio_intermediario.ano==2019].cod_mun.count()"
   ]
  },
  {
   "cell_type": "code",
   "execution_count": null,
   "metadata": {},
   "outputs": [],
   "source": [
    "suicidio_intermediario[suicidio_intermediario.ano==2019].cod_mun.nunique()"
   ]
  },
  {
   "cell_type": "code",
   "execution_count": null,
   "metadata": {},
   "outputs": [],
   "source": [
    "#suicidio_intermediario.head().to_csv('valida37_junta.csv')"
   ]
  },
  {
   "cell_type": "code",
   "execution_count": null,
   "metadata": {},
   "outputs": [],
   "source": [
    "#faz o cálculo da quantidade de suicidios esperada\n",
    "suicidio_intermediario['suic_esp_total'] = (suicidio_intermediario['pop_total']*suicidio_intermediario['taxa_esperada_total'])\n",
    "suicidio_intermediario['suic_esp_0_a_4_anos'] = (suicidio_intermediario['pop_0_a_4_anos']*suicidio_intermediario['taxa_esperada_0_a_4_anos'])\n",
    "suicidio_intermediario['suic_esp_5_a_14_anos'] = (suicidio_intermediario['pop_5_a_14_anos']*suicidio_intermediario['taxa_esperada_5_a_14_anos'])\n",
    "suicidio_intermediario['suic_esp_15_a_24_anos'] = (suicidio_intermediario['pop_15_a_24_anos']*suicidio_intermediario['taxa_esperada_15_a_24_anos'])\n",
    "suicidio_intermediario['suic_esp_25_a_34_anos'] = (suicidio_intermediario['pop_25_a_34_anos']*suicidio_intermediario['taxa_esperada_25_a_34_anos'])\n",
    "suicidio_intermediario['suic_esp_35_a_44_anos'] = (suicidio_intermediario['pop_35_a_44_anos']*suicidio_intermediario['taxa_esperada_35_a_44_anos'])\n",
    "suicidio_intermediario['suic_esp_45_a_54_anos'] = (suicidio_intermediario['pop_45_a_54_anos']*suicidio_intermediario['taxa_esperada_45_a_54_anos'])\n",
    "suicidio_intermediario['suic_esp_55_a_64_anos'] = (suicidio_intermediario['pop_55_a_64_anos']*suicidio_intermediario['taxa_esperada_55_a_64_anos'])\n",
    "suicidio_intermediario['suic_esp_65_a_74_anos'] = (suicidio_intermediario['pop_65_a_74_anos']*suicidio_intermediario['taxa_esperada_65_a_74_anos'])\n",
    "suicidio_intermediario['suic_esp_75_anos_e_mais'] = (suicidio_intermediario['pop_75_anos_e_mais']*suicidio_intermediario['taxa_esperada_75_anos_e_mais'])\n",
    "suicidio_intermediario['suic_esp_idade_ignorada'] = (suicidio_intermediario['pop_idade_ignorada']*suicidio_intermediario['taxa_esperada_idade_ignorada'])\n",
    "suicidio_intermediario['suic_esp_total_masc'] = (suicidio_intermediario['pop_total_masc']*suicidio_intermediario['taxa_esperada_total_masc'])\n",
    "suicidio_intermediario['suic_esp_0_a_4_anos_masc'] = (suicidio_intermediario['pop_0_a_4_anos_masc']*suicidio_intermediario['taxa_esperada_0_a_4_anos_masc'])\n",
    "suicidio_intermediario['suic_esp_5_a_14_anos_masc'] = (suicidio_intermediario['pop_5_a_14_anos_masc']*suicidio_intermediario['taxa_esperada_5_a_14_anos_masc'])\n",
    "suicidio_intermediario['suic_esp_15_a_24_anos_masc'] = (suicidio_intermediario['pop_15_a_24_anos_masc']*suicidio_intermediario['taxa_esperada_15_a_24_anos_masc'])\n",
    "suicidio_intermediario['suic_esp_25_a_34_anos_masc'] = (suicidio_intermediario['pop_25_a_34_anos_masc']*suicidio_intermediario['taxa_esperada_25_a_34_anos_masc'])\n",
    "suicidio_intermediario['suic_esp_35_a_44_anos_masc'] = (suicidio_intermediario['pop_35_a_44_anos_masc']*suicidio_intermediario['taxa_esperada_35_a_44_anos_masc'])\n",
    "suicidio_intermediario['suic_esp_45_a_54_anos_masc'] = (suicidio_intermediario['pop_45_a_54_anos_masc']*suicidio_intermediario['taxa_esperada_45_a_54_anos_masc'])\n",
    "suicidio_intermediario['suic_esp_55_a_64_anos_masc'] = (suicidio_intermediario['pop_55_a_64_anos_masc']*suicidio_intermediario['taxa_esperada_55_a_64_anos_masc'])\n",
    "suicidio_intermediario['suic_esp_65_a_74_anos_masc'] = (suicidio_intermediario['pop_65_a_74_anos_masc']*suicidio_intermediario['taxa_esperada_65_a_74_anos_masc'])\n",
    "suicidio_intermediario['suic_esp_75_anos_e_mais_masc'] = (suicidio_intermediario['pop_75_anos_e_mais_masc']*suicidio_intermediario['taxa_esperada_75_anos_e_mais_masc'])\n",
    "suicidio_intermediario['suic_esp_idade_ignorada_masc'] = (suicidio_intermediario['pop_idade_ignorada_masc']*suicidio_intermediario['taxa_esperada_idade_ignorada_masc'])\n",
    "suicidio_intermediario['suic_esp_total_fem'] = (suicidio_intermediario['pop_total_fem']*suicidio_intermediario['taxa_esperada_total_fem'])\n",
    "suicidio_intermediario['suic_esp_0_a_4_anos_fem'] = (suicidio_intermediario['pop_0_a_4_anos_fem']*suicidio_intermediario['taxa_esperada_0_a_4_anos_fem'])\n",
    "suicidio_intermediario['suic_esp_5_a_14_anos_fem'] = (suicidio_intermediario['pop_5_a_14_anos_fem']*suicidio_intermediario['taxa_esperada_5_a_14_anos_fem'])\n",
    "suicidio_intermediario['suic_esp_15_a_24_anos_fem'] = (suicidio_intermediario['pop_15_a_24_anos_fem']*suicidio_intermediario['taxa_esperada_15_a_24_anos_fem'])\n",
    "suicidio_intermediario['suic_esp_25_a_34_anos_fem'] = (suicidio_intermediario['pop_25_a_34_anos_fem']*suicidio_intermediario['taxa_esperada_25_a_34_anos_fem'])\n",
    "suicidio_intermediario['suic_esp_35_a_44_anos_fem'] = (suicidio_intermediario['pop_35_a_44_anos_fem']*suicidio_intermediario['taxa_esperada_35_a_44_anos_fem'])\n",
    "suicidio_intermediario['suic_esp_45_a_54_anos_fem'] = (suicidio_intermediario['pop_45_a_54_anos_fem']*suicidio_intermediario['taxa_esperada_45_a_54_anos_fem'])\n",
    "suicidio_intermediario['suic_esp_55_a_64_anos_fem'] = (suicidio_intermediario['pop_55_a_64_anos_fem']*suicidio_intermediario['taxa_esperada_55_a_64_anos_fem'])\n",
    "suicidio_intermediario['suic_esp_65_a_74_anos_fem'] = (suicidio_intermediario['pop_65_a_74_anos_fem']*suicidio_intermediario['taxa_esperada_65_a_74_anos_fem'])\n",
    "suicidio_intermediario['suic_esp_75_anos_e_mais_fem'] = (suicidio_intermediario['pop_75_anos_e_mais_fem']*suicidio_intermediario['taxa_esperada_75_anos_e_mais_fem'])\n",
    "suicidio_intermediario['suic_esp_idade_ignorada_fem'] = (suicidio_intermediario['pop_idade_ignorada_fem']*suicidio_intermediario['taxa_esperada_idade_ignorada_fem'])\n"
   ]
  },
  {
   "cell_type": "code",
   "execution_count": null,
   "metadata": {},
   "outputs": [],
   "source": [
    "suicidio_intermediario"
   ]
  },
  {
   "cell_type": "code",
   "execution_count": null,
   "metadata": {},
   "outputs": [],
   "source": [
    "#validacao\n",
    "#suicidio_intermediario[suicidio_intermediario.suic_idade_ignorada!= (suicidio_intermediario.suic_idade_ignorada_masc+suicidio_intermediario.suic_idade_ignorada_fem)][['cod_mun','suic_idade_ignorada_masc','suic_idade_ignorada_fem','suic_idade_ignorada']]"
   ]
  },
  {
   "cell_type": "code",
   "execution_count": null,
   "metadata": {},
   "outputs": [],
   "source": [
    "#excluindo casos que não reporta sexo ou idade\n",
    "suicidio_intermediario['suicidio_observado_sexo_idade'] = (suicidio_intermediario['suic_0_a_4_anos_masc']+\n",
    "suicidio_intermediario['suic_5_a_14_anos_masc']+suicidio_intermediario['suic_15_a_24_anos_masc']+\n",
    "suicidio_intermediario['suic_25_a_34_anos_masc']+suicidio_intermediario['suic_35_a_44_anos_masc']+ suicidio_intermediario['suic_45_a_54_anos_masc']+\n",
    "                                                           suicidio_intermediario['suic_55_a_64_anos_masc']+\n",
    "                                                           suicidio_intermediario['suic_65_a_74_anos_masc']+\n",
    "                                                           suicidio_intermediario['suic_75_anos_e_mais_masc']+\n",
    "                                                           suicidio_intermediario['suic_0_a_4_anos_fem']+\n",
    "                                                           suicidio_intermediario['suic_5_a_14_anos_fem']+\n",
    "                                                           suicidio_intermediario['suic_15_a_24_anos_fem']+\n",
    "                                                           suicidio_intermediario['suic_25_a_34_anos_fem']+\n",
    "                                                           suicidio_intermediario['suic_35_a_44_anos_fem']+\n",
    "                                                           suicidio_intermediario['suic_45_a_54_anos_fem']+\n",
    "                                                           suicidio_intermediario['suic_55_a_64_anos_fem']+\n",
    "                                                           suicidio_intermediario['suic_65_a_74_anos_fem']+\n",
    "                                                           suicidio_intermediario['suic_75_anos_e_mais_fem'])\n",
    "\n"
   ]
  },
  {
   "cell_type": "code",
   "execution_count": null,
   "metadata": {},
   "outputs": [],
   "source": [
    "#excluindo casos que não reporta sexo ou idade\n",
    "suicidio_intermediario['suicidio_esperado_sexo_idade'] = (suicidio_intermediario['suic_esp_0_a_4_anos_masc']+\n",
    "                                                          suicidio_intermediario['suic_esp_5_a_14_anos_masc']+\n",
    "                                                          suicidio_intermediario['suic_esp_15_a_24_anos_masc']+\n",
    "                                                          suicidio_intermediario['suic_esp_25_a_34_anos_masc']+\n",
    "                                                          suicidio_intermediario['suic_esp_35_a_44_anos_masc']+\n",
    "                                                          suicidio_intermediario['suic_esp_45_a_54_anos_masc']+\n",
    "                                                          suicidio_intermediario['suic_esp_55_a_64_anos_masc']+\n",
    "                                                          suicidio_intermediario['suic_esp_65_a_74_anos_masc']+\n",
    "                                                          suicidio_intermediario['suic_esp_75_anos_e_mais_masc']+\n",
    "                                                          suicidio_intermediario['suic_esp_0_a_4_anos_fem']+\n",
    "                                                          suicidio_intermediario['suic_esp_5_a_14_anos_fem']+\n",
    "                                                          suicidio_intermediario['suic_esp_15_a_24_anos_fem']+\n",
    "                                                          suicidio_intermediario['suic_esp_25_a_34_anos_fem']+\n",
    "                                                          suicidio_intermediario['suic_esp_35_a_44_anos_fem']+\n",
    "                                                          suicidio_intermediario['suic_esp_45_a_54_anos_fem']+\n",
    "                                                          suicidio_intermediario['suic_esp_55_a_64_anos_fem']+\n",
    "                                                          suicidio_intermediario['suic_esp_65_a_74_anos_fem']+\n",
    "                                                          suicidio_intermediario['suic_esp_75_anos_e_mais_fem'])\n",
    "\n"
   ]
  },
  {
   "cell_type": "code",
   "execution_count": null,
   "metadata": {},
   "outputs": [],
   "source": [
    "suicidio_intermediario.suicidio_esperado_sexo_idade.sum()"
   ]
  },
  {
   "cell_type": "code",
   "execution_count": null,
   "metadata": {},
   "outputs": [],
   "source": [
    "suicidio_intermediario.suicidio_observado_sexo_idade.sum()"
   ]
  },
  {
   "cell_type": "code",
   "execution_count": null,
   "metadata": {},
   "outputs": [],
   "source": [
    "suicidio_intermediario.to_csv('base_suicidio_satscan.csv')"
   ]
  },
  {
   "cell_type": "markdown",
   "metadata": {},
   "source": [
    "### Valida um caso - validação ok"
   ]
  },
  {
   "cell_type": "code",
   "execution_count": null,
   "metadata": {},
   "outputs": [],
   "source": [
    "suicidio_intermediario[suicidio_intermediario.ano==2019].sort_values(by='taxa_esperada_total', ascending=False).head(5).to_csv('valida41_validacaso.csv')"
   ]
  },
  {
   "cell_type": "code",
   "execution_count": null,
   "metadata": {},
   "outputs": [],
   "source": [
    "suicidio_intermediario[suicidio_intermediario.ano==2019].sort_values(by='suic_total', ascending=False).head(5).to_csv('valida42_validacaso.csv')"
   ]
  },
  {
   "cell_type": "markdown",
   "metadata": {},
   "source": [
    "# RODAR AQUI 28/11/2021: PREPARA BASE PARA SATSCAN"
   ]
  },
  {
   "cell_type": "code",
   "execution_count": null,
   "metadata": {},
   "outputs": [],
   "source": [
    "suicidio_intermediario = pd.read_csv('base_suicidio_satscan.csv', header = 0, low_memory=False, index_col=[0], sep=',', encoding='latin-1')"
   ]
  },
  {
   "cell_type": "code",
   "execution_count": null,
   "metadata": {},
   "outputs": [],
   "source": [
    "#print(suicidio_intermediario.suicidio_esperado_sexo_idade.sum(),suicidio_intermediario.suicidio_observado_sexo_idade.sum() )"
   ]
  },
  {
   "cell_type": "code",
   "execution_count": null,
   "metadata": {},
   "outputs": [],
   "source": [
    "#suicidio_intermediario.head(5)"
   ]
  },
  {
   "cell_type": "code",
   "execution_count": null,
   "metadata": {},
   "outputs": [],
   "source": [
    "#suicidio_intermediario.head(5).to_csv('valida43_base_com_covariavei.csv')"
   ]
  },
  {
   "cell_type": "code",
   "execution_count": null,
   "metadata": {},
   "outputs": [],
   "source": [
    "#entender quais são os tipos de lugar\n",
    "#suicidio_intermediario.groupby(['ano','TIPO'])['cod_mun'].agg('count')"
   ]
  },
  {
   "cell_type": "code",
   "execution_count": null,
   "metadata": {},
   "outputs": [],
   "source": [
    "#suicidio_intermediario.groupby(['ano'])['cod_mun'].agg('count')"
   ]
  },
  {
   "cell_type": "code",
   "execution_count": null,
   "metadata": {},
   "outputs": [],
   "source": [
    "#satscan_geo = suicidio_intermediario[suicidio_intermediario.ano == 2019][['cod_mun','LATITUDE','LONGITUDE']] "
   ]
  },
  {
   "cell_type": "code",
   "execution_count": null,
   "metadata": {},
   "outputs": [],
   "source": [
    "#valida\n",
    "#print(satscan_geo.cod_mun.count(), satscan_geo.cod_mun.nunique() )"
   ]
  },
  {
   "cell_type": "code",
   "execution_count": null,
   "metadata": {},
   "outputs": [],
   "source": [
    "#satscan_geo.to_csv('satscan_geo.csv', index=False)"
   ]
  },
  {
   "cell_type": "code",
   "execution_count": null,
   "metadata": {},
   "outputs": [],
   "source": [
    "#satscan_observado = suicidio_intermediario[suicidio_intermediario.ano == 2019][['cod_mun','suicidio_observado_sexo_idade']] "
   ]
  },
  {
   "cell_type": "code",
   "execution_count": null,
   "metadata": {},
   "outputs": [],
   "source": [
    "#valida\n",
    "#print(satscan_observado.cod_mun.count(), satscan_observado.cod_mun.nunique() )"
   ]
  },
  {
   "cell_type": "code",
   "execution_count": null,
   "metadata": {},
   "outputs": [],
   "source": [
    "#satscan_observado.to_csv('satscan_observado.csv', index=False)"
   ]
  },
  {
   "cell_type": "code",
   "execution_count": null,
   "metadata": {},
   "outputs": [],
   "source": [
    "#satscan_esperado = suicidio_intermediario[suicidio_intermediario.ano == 2019][['cod_mun','suicidio_esperado_sexo_idade']] "
   ]
  },
  {
   "cell_type": "code",
   "execution_count": null,
   "metadata": {},
   "outputs": [],
   "source": [
    "#valida\n",
    "#print(satscan_esperado.cod_mun.count(), satscan_esperado.cod_mun.nunique() )"
   ]
  },
  {
   "cell_type": "code",
   "execution_count": null,
   "metadata": {},
   "outputs": [],
   "source": [
    "#satscan_esperado.to_csv('satscan_esperado.csv', index=False)"
   ]
  },
  {
   "cell_type": "code",
   "execution_count": null,
   "metadata": {},
   "outputs": [],
   "source": [
    "#LEMBRAR: cada exportação eu mexi manualmente no arquivo: troquei o \".\" pelo @@, \n",
    "#depois dividi em colunas, depois exclui a primeira coluna. Depois voltei o \"@@\" para \",\"\n",
    "\n",
    "## ATUALIZAÇÃO 16/01/2022: ACHO que arrumei pelos códigos mesmo, então é só colocar na ferramenta"
   ]
  },
  {
   "cell_type": "markdown",
   "metadata": {},
   "source": [
    "### Ruralidade: tratar a base para ruralidade - há 4 municípios nulos"
   ]
  },
  {
   "cell_type": "code",
   "execution_count": null,
   "metadata": {},
   "outputs": [],
   "source": [
    "#suicidio_rural_nulo = suicidio_intermediario[(suicidio_intermediario.TIPO.isnull())]"
   ]
  },
  {
   "cell_type": "code",
   "execution_count": null,
   "metadata": {},
   "outputs": [],
   "source": [
    "#cidades do litoral de santa catarina, interior do PA, MS e RS\n",
    "#suicidio_rural_nulo[['cod_mun','ano','suicidio_observado_sexo_idade','MUNNOMEX', 'TIPO']].to_csv('valida44_ruralidade_nulo.csv')"
   ]
  },
  {
   "cell_type": "code",
   "execution_count": null,
   "metadata": {},
   "outputs": [],
   "source": [
    "#suicidio_interm_ruralidade = suicidio_intermediario.copy()"
   ]
  },
  {
   "cell_type": "code",
   "execution_count": null,
   "metadata": {},
   "outputs": [],
   "source": [
    "#foram rural adjacente por estarem próximos de cidades grandes, mas estão no interior - e é o que é a maioria dos municípios\n",
    "#suicidio_interm_ruralidade['TIPO'] = np.where(suicidio_interm_ruralidade.TIPO.isnull(),'RuralAdjacente',suicidio_interm_ruralidade.TIPO)"
   ]
  },
  {
   "cell_type": "code",
   "execution_count": null,
   "metadata": {},
   "outputs": [],
   "source": [
    "#suicidio_rural_nulo = suicidio_interm_ruralidade[(suicidio_interm_ruralidade.TIPO.isnull())]"
   ]
  },
  {
   "cell_type": "code",
   "execution_count": null,
   "metadata": {},
   "outputs": [],
   "source": [
    "#suicidio_rural_nulo.head(5)"
   ]
  },
  {
   "cell_type": "code",
   "execution_count": null,
   "metadata": {},
   "outputs": [],
   "source": [
    "#suicidio_interm_ruralidade.groupby(['ano','TIPO'])['cod_mun'].agg('count')"
   ]
  },
  {
   "cell_type": "code",
   "execution_count": null,
   "metadata": {},
   "outputs": [],
   "source": [
    "#satscan_observado_ruralidade = suicidio_interm_ruralidade[suicidio_interm_ruralidade.ano == 2019][['cod_mun','suicidio_observado_sexo_idade', 'TIPO']]"
   ]
  },
  {
   "cell_type": "code",
   "execution_count": null,
   "metadata": {},
   "outputs": [],
   "source": [
    "#satscan_observado_ruralidade.to_csv('satscan_observado_ruralidade.csv', index=False)"
   ]
  },
  {
   "cell_type": "code",
   "execution_count": null,
   "metadata": {},
   "outputs": [],
   "source": [
    "#satscan_esperado_ruralidade = suicidio_interm_ruralidade[suicidio_interm_ruralidade.ano == 2019][['cod_mun','suicidio_esperado_sexo_idade', 'TIPO']]"
   ]
  },
  {
   "cell_type": "code",
   "execution_count": null,
   "metadata": {},
   "outputs": [],
   "source": [
    "#satscan_esperado_ruralidade.to_csv('satscan_esperado_ruralidade.csv', index=False)"
   ]
  },
  {
   "cell_type": "code",
   "execution_count": null,
   "metadata": {},
   "outputs": [],
   "source": [
    "# TIVE QUE TRANSFORMAR O FLOAT DO OBSERVADO EM INT NA MÃO NO ARQUIVO"
   ]
  },
  {
   "cell_type": "markdown",
   "metadata": {},
   "source": [
    "### Prepara a base espaço-temporal"
   ]
  },
  {
   "cell_type": "code",
   "execution_count": null,
   "metadata": {},
   "outputs": [],
   "source": [
    "#Deu erro porque tem cidade que não aparece todos os anos, pensar se vou restringir data ou se vou restringir cidade.\n",
    "#Posso fazer os dois: data e cidade\n",
    "#abaixo começam os estudos sobre isso"
   ]
  },
  {
   "cell_type": "code",
   "execution_count": null,
   "metadata": {},
   "outputs": [],
   "source": [
    "#satscan_observado_temporal.head(5)"
   ]
  },
  {
   "cell_type": "code",
   "execution_count": null,
   "metadata": {},
   "outputs": [],
   "source": [
    "#tenta ver se tem algum ano que está faltando o cod_mun\n",
    "#satscan_observado_temporal.groupby(['ano'])['cod_mun'].agg('count').to_csv('valida46_mun_nulo.csv')"
   ]
  },
  {
   "cell_type": "code",
   "execution_count": null,
   "metadata": {},
   "outputs": [],
   "source": [
    "# a partir de 2013 some 1 município, por isso que a extração de geolocalização é de 2012"
   ]
  },
  {
   "cell_type": "code",
   "execution_count": null,
   "metadata": {},
   "outputs": [],
   "source": [
    "# agora entende se há municípios novos ao longo do tempo, ou eles aparecem desde 1996, mas estão vazios mesmo"
   ]
  },
  {
   "cell_type": "code",
   "execution_count": null,
   "metadata": {},
   "outputs": [],
   "source": [
    "#teste = satscan_observado_temporal[satscan_observado_temporal.ano==1996][['cod_mun']]"
   ]
  },
  {
   "cell_type": "code",
   "execution_count": null,
   "metadata": {},
   "outputs": [],
   "source": [
    "#teste2 = satscan_observado_temporal[~satscan_observado_temporal.cod_mun.isin(teste.cod_mun)][['ano','cod_mun']]"
   ]
  },
  {
   "cell_type": "code",
   "execution_count": null,
   "metadata": {},
   "outputs": [],
   "source": [
    "#teste2"
   ]
  },
  {
   "cell_type": "code",
   "execution_count": null,
   "metadata": {},
   "outputs": [],
   "source": [
    "# cidades de 1996 estão em todos os anos no observado, acho que equalizei municípios mesmo\n",
    "# sei que a partir de 2013, uma cidade some, vamos descobrir qual"
   ]
  },
  {
   "cell_type": "code",
   "execution_count": null,
   "metadata": {},
   "outputs": [],
   "source": [
    "#teste = satscan_observado_temporal[satscan_observado_temporal.ano==2013][['cod_mun']]\n"
   ]
  },
  {
   "cell_type": "code",
   "execution_count": null,
   "metadata": {},
   "outputs": [],
   "source": [
    "#teste2 = satscan_observado_temporal[~satscan_observado_temporal.cod_mun.isin(teste.cod_mun)][['ano','cod_mun']]"
   ]
  },
  {
   "cell_type": "code",
   "execution_count": null,
   "metadata": {},
   "outputs": [],
   "source": [
    "#teste2"
   ]
  },
  {
   "cell_type": "code",
   "execution_count": null,
   "metadata": {},
   "outputs": [],
   "source": [
    "# A cidade 431453 que sumiu\n",
    "#Entre 2001 e 2002, n˜ao foram criados nem destru´ıdos munic´ıpios. Entre 2002\n",
    "e 2003, n˜ao foram criados novos munic´ıpios. Por outro lado, o munic´ıpio de Pinto\n",
    "Bandeira, c´odigo IBGE 431453, que tinha 2.673 habitantes em 2002, foi exclu´ıdo.\n",
    "Pinto Bandeira era um distrito do munic´ıpio de Bento Gon¸calves no estado do Rio\n",
    "Grande do Sul. Foi elevado `a categoria de munic´ıpio em 2001, mas extinto por\n",
    "decis˜ao do Supremo Tribunal Federal em 2002.\n",
    "# Faz uma análise de tudo que entra e sai ao longo do tempo\n",
    "# http://jaguar.fcav.unesp.br/RME/fasciculos/v29/v29_n1/A10_Alexandre.pdf"
   ]
  },
  {
   "cell_type": "code",
   "execution_count": null,
   "metadata": {},
   "outputs": [],
   "source": [
    "#teste"
   ]
  },
  {
   "cell_type": "code",
   "execution_count": null,
   "metadata": {},
   "outputs": [],
   "source": [
    "#satscan_esperado_temporal.head(5)"
   ]
  },
  {
   "cell_type": "code",
   "execution_count": null,
   "metadata": {},
   "outputs": [],
   "source": [
    "#suicidio_intermediario[suicidio_intermediario.cod_mun == 150475].to_csv('valida47_populacaonula.csv')"
   ]
  },
  {
   "cell_type": "code",
   "execution_count": null,
   "metadata": {},
   "outputs": [],
   "source": [
    "# entender municípios que não existiam em algum ano\n",
    "#suicidio_intermediario[(suicidio_intermediario.pop_total == 0) | (suicidio_intermediario.suicidio_esperado_sexo_idade == 0)][['ano','cod_mun','pop_total','suicidio_esperado_sexo_idade']].to_csv('valida48_populacaonula.csv')"
   ]
  },
  {
   "cell_type": "markdown",
   "metadata": {},
   "source": [
    "#### Resultado do estudo: Dos 5567 municípios totais, 593 não aparecem em um ou mais anos. 533 não estão na base de 1996, 53 não estão na base entre 1996 e 200, 1 não está na base entre 1996 e 2008 e 6 não está não base entre 1996 e 2012."
   ]
  },
  {
   "cell_type": "code",
   "execution_count": null,
   "metadata": {},
   "outputs": [],
   "source": [
    "#na planilha valida 48 faço toda a análise de quem são esses municipios e crio a base excluidos_expaco_temporal que retiro os 60 casos"
   ]
  },
  {
   "cell_type": "code",
   "execution_count": null,
   "metadata": {},
   "outputs": [],
   "source": [
    "#tirei o index_col\n",
    "excluidos_espaco_temporal = pd.read_csv('excluidos_espaco_temporal.csv', header = 0, low_memory=False, sep=',', encoding='latin-1')"
   ]
  },
  {
   "cell_type": "code",
   "execution_count": null,
   "metadata": {},
   "outputs": [],
   "source": [
    "#excluidos_espaco_temporal.head(5)"
   ]
  },
  {
   "cell_type": "code",
   "execution_count": null,
   "metadata": {},
   "outputs": [],
   "source": [
    "#excluidos_espaco_temporal.cod_mun.count()"
   ]
  },
  {
   "cell_type": "code",
   "execution_count": null,
   "metadata": {},
   "outputs": [],
   "source": [
    "# Vou retirar da base os excluidos para análise temporal"
   ]
  },
  {
   "cell_type": "code",
   "execution_count": null,
   "metadata": {},
   "outputs": [],
   "source": [
    "suicidio_intermediario_munexcluidos=suicidio_intermediario[~suicidio_intermediario.cod_mun.isin(excluidos_espaco_temporal.cod_mun)]"
   ]
  },
  {
   "cell_type": "code",
   "execution_count": null,
   "metadata": {},
   "outputs": [],
   "source": [
    "#valida"
   ]
  },
  {
   "cell_type": "code",
   "execution_count": null,
   "metadata": {},
   "outputs": [],
   "source": [
    "#print(suicidio_intermediario.cod_mun.count(), suicidio_intermediario.cod_mun.nunique() )\n",
    "#print(suicidio_intermediario_munexcluidos.cod_mun.count(), suicidio_intermediario_munexcluidos.cod_mun.nunique() )"
   ]
  },
  {
   "cell_type": "code",
   "execution_count": null,
   "metadata": {},
   "outputs": [],
   "source": [
    "#começa a exportar para análise espaço-temporal - Lembrando que a análise vai começar em 1997"
   ]
  },
  {
   "cell_type": "code",
   "execution_count": null,
   "metadata": {},
   "outputs": [],
   "source": [
    "suicidio_intermediario_munexcluidos = suicidio_intermediario_munexcluidos[suicidio_intermediario_munexcluidos.ano > 1996]"
   ]
  },
  {
   "cell_type": "code",
   "execution_count": null,
   "metadata": {},
   "outputs": [],
   "source": [
    "#print(suicidio_intermediario_munexcluidos.cod_mun.count(), suicidio_intermediario_munexcluidos.cod_mun.nunique() )"
   ]
  },
  {
   "cell_type": "code",
   "execution_count": null,
   "metadata": {},
   "outputs": [],
   "source": [
    "#de 2012 para 2013 sumiu um codmun, por isso vou pegar do ano de 2012\n",
    "#vamos entender qual é esse codmun?\n",
    "#testar código df[~df.country.isin(countries_to_keep)]"
   ]
  },
  {
   "cell_type": "code",
   "execution_count": null,
   "metadata": {},
   "outputs": [],
   "source": [
    "#satscan_geo_temporal = suicidio_intermediario_munexcluidos[suicidio_intermediario_munexcluidos.ano == 1997][['cod_mun','LATITUDE','LONGITUDE']] "
   ]
  },
  {
   "cell_type": "code",
   "execution_count": null,
   "metadata": {},
   "outputs": [],
   "source": [
    "#satscan_geo_temporal.to_csv('satscan_geo_temporal.csv', index=False)"
   ]
  },
  {
   "cell_type": "code",
   "execution_count": null,
   "metadata": {},
   "outputs": [],
   "source": [
    "#suicidio_intermediario_munexcluidos.suicidio_observado_sexo_idade = suicidio_intermediario_munexcluidos.suicidio_observado_sexo_idade.astype(int)"
   ]
  },
  {
   "cell_type": "code",
   "execution_count": null,
   "metadata": {},
   "outputs": [],
   "source": [
    " # temporal\n",
    "#satscan_observado_temporal = suicidio_intermediario_munexcluidos[['ano','cod_mun','suicidio_observado_sexo_idade']] "
   ]
  },
  {
   "cell_type": "code",
   "execution_count": null,
   "metadata": {},
   "outputs": [],
   "source": [
    "#satscan_observado_temporal.to_csv('satscan_observado_temporal.csv', index=False)"
   ]
  },
  {
   "cell_type": "code",
   "execution_count": null,
   "metadata": {},
   "outputs": [],
   "source": [
    " #satscan_esperado_temporal = suicidio_intermediario_munexcluidos[['ano','cod_mun','suicidio_esperado_sexo_idade']] "
   ]
  },
  {
   "cell_type": "code",
   "execution_count": null,
   "metadata": {},
   "outputs": [],
   "source": [
    "#satscan_esperado_temporal.to_csv('satscan_esperado_temporal.csv', index=False)"
   ]
  },
  {
   "cell_type": "code",
   "execution_count": null,
   "metadata": {},
   "outputs": [],
   "source": [
    "#LEMBRAR: cada exportação eu mexi manualmente no arquivo: troquei o \".\" pelo @@, \n",
    "#depois dividi em colunas, depois exclui a primeira coluna. Depois voltei o \"@@\" para \",\"\n",
    "\n",
    "## ATUALIZAÇÃO 16/01/2022: ACHO que arrumei pelos códigos mesmo, então é só colocar na ferramenta"
   ]
  },
  {
   "cell_type": "code",
   "execution_count": null,
   "metadata": {},
   "outputs": [],
   "source": [
    "#VALIDA - VI AQUI E TUDO CERTO - todos estão de 1997 a 2019 com 5.507 municipios"
   ]
  },
  {
   "cell_type": "code",
   "execution_count": null,
   "metadata": {},
   "outputs": [],
   "source": [
    "#satscan_esperado_temporal.groupby(['ano'])['cod_mun'].agg('count')"
   ]
  },
  {
   "cell_type": "code",
   "execution_count": null,
   "metadata": {},
   "outputs": [],
   "source": [
    "#satscan_observado_temporal.groupby(['ano'])['cod_mun'].agg('count')"
   ]
  },
  {
   "cell_type": "code",
   "execution_count": null,
   "metadata": {},
   "outputs": [],
   "source": [
    "#satscan_geo_temporal.cod_mun.count()"
   ]
  },
  {
   "cell_type": "markdown",
   "metadata": {},
   "source": [
    "# 07/03/2022: análise de joinpoint, usa codigos rodados acima"
   ]
  },
  {
   "cell_type": "code",
   "execution_count": null,
   "metadata": {},
   "outputs": [],
   "source": [
    "suicidio_intermediario_munexcluidos.head(1).to_csv('valida50_campos.csv')"
   ]
  },
  {
   "cell_type": "code",
   "execution_count": null,
   "metadata": {},
   "outputs": [],
   "source": [
    "joinpoint = suicidio_intermediario_munexcluidos[['cod_mun', 'MUNNOMEX','ano','taxa_padronizada_sexo_idade']].sort_values(by=['cod_mun','ano'], ascending=True)"
   ]
  },
  {
   "cell_type": "code",
   "execution_count": null,
   "metadata": {},
   "outputs": [],
   "source": [
    "joinpoint.head(5)"
   ]
  },
  {
   "cell_type": "code",
   "execution_count": null,
   "metadata": {},
   "outputs": [],
   "source": [
    "joinpoint.taxa_padronizada_sexo_idade.min()"
   ]
  },
  {
   "cell_type": "code",
   "execution_count": null,
   "metadata": {},
   "outputs": [],
   "source": [
    "joinpoint[joinpoint.taxa_padronizada_sexo_idade != 0].taxa_padronizada_sexo_idade.min()"
   ]
  },
  {
   "cell_type": "code",
   "execution_count": null,
   "metadata": {},
   "outputs": [],
   "source": [
    "#deu problema para taxas zeradas no joinpoint, vou tirar as taxas zeradas"
   ]
  },
  {
   "cell_type": "code",
   "execution_count": null,
   "metadata": {},
   "outputs": [],
   "source": [
    "joinpoint['taxa_padronizada_sexo_idade'] = np.where(joinpoint.taxa_padronizada_sexo_idade==0,0.001,joinpoint.taxa_padronizada_sexo_idade)"
   ]
  },
  {
   "cell_type": "code",
   "execution_count": null,
   "metadata": {},
   "outputs": [],
   "source": [
    "joinpoint.taxa_padronizada_sexo_idade.min()"
   ]
  },
  {
   "cell_type": "code",
   "execution_count": null,
   "metadata": {},
   "outputs": [],
   "source": [
    "joinpoint.to_csv('base_joinpoint.csv', index=False)"
   ]
  },
  {
   "cell_type": "markdown",
   "metadata": {},
   "source": [
    "# 12/03/2022: PREPARA UMA BASE COM TODAS AS SAÍDAS PARA FAZER OS ESTUDOS DE RURALIDADE E O DASHBOARD GERAL"
   ]
  },
  {
   "cell_type": "code",
   "execution_count": null,
   "metadata": {},
   "outputs": [],
   "source": [
    "#cadmun_final= pd.read_csv('cadmun_final.csv', header = 0, low_memory=False, index_col=False, sep=';', encoding='latin-1')\n",
    "\n",
    "#suicidio_brasil\n",
    "\n",
    "#suicidio_intermediario=suicidio_interm.merge(suicidio_brasil, on=['ano'],  how='left')"
   ]
  },
  {
   "cell_type": "code",
   "execution_count": null,
   "metadata": {},
   "outputs": [],
   "source": [
    "#TRANSFORMAR OS ARQUIVOS EM CSV COM VÍRGULA EM PONTO, ASSIM O PYTHON ENTENDE CERTINHO O TIPO\n",
    "base_espaco_consolidada = pd.read_csv('base_espaco_consolidada.csv', header = 0, low_memory=False, index_col=False, sep=';', encoding='latin-1')\n",
    "base_espaco_tempo_consolidada = pd.read_csv('base_espaco_tempo_consolidada.csv', header = 0, low_memory=False, index_col=False, sep=';', encoding='latin-1')\n",
    "base_joinpoint_consolidada = pd.read_csv('base_joinpoint_consolidada.csv', header = 0, low_memory=False, index_col=False, sep=';', encoding='latin-1')"
   ]
  },
  {
   "cell_type": "code",
   "execution_count": null,
   "metadata": {},
   "outputs": [],
   "source": [
    "base_espaco_consolidada.dtypes"
   ]
  },
  {
   "cell_type": "code",
   "execution_count": null,
   "metadata": {},
   "outputs": [],
   "source": [
    "base_espaco_tempo_consolidada.dtypes"
   ]
  },
  {
   "cell_type": "code",
   "execution_count": null,
   "metadata": {},
   "outputs": [],
   "source": [
    "base_joinpoint_consolidada.dtypes"
   ]
  },
  {
   "cell_type": "code",
   "execution_count": null,
   "metadata": {},
   "outputs": [],
   "source": [
    "suicidio_intermediario.head(1).to_csv('valida51_campos_atuais.csv')"
   ]
  },
  {
   "cell_type": "code",
   "execution_count": null,
   "metadata": {},
   "outputs": [],
   "source": [
    "suicidio_base_geral = suicidio_intermediario.merge(base_espaco_consolidada, on=['cod_mun'],  how='left')"
   ]
  },
  {
   "cell_type": "code",
   "execution_count": null,
   "metadata": {},
   "outputs": [],
   "source": [
    "suicidio_base_geral = suicidio_base_geral.merge(base_espaco_tempo_consolidada, on=['cod_mun'],  how='left')"
   ]
  },
  {
   "cell_type": "code",
   "execution_count": null,
   "metadata": {},
   "outputs": [],
   "source": [
    "suicidio_base_geral = suicidio_base_geral.merge(base_joinpoint_consolidada, on=['cod_mun'],  how='left')"
   ]
  },
  {
   "cell_type": "code",
   "execution_count": null,
   "metadata": {},
   "outputs": [],
   "source": [
    "suicidio_base_geral.to_csv('suicidio_base_geral.csv')"
   ]
  },
  {
   "cell_type": "code",
   "execution_count": null,
   "metadata": {},
   "outputs": [],
   "source": [
    "#suicidio_intermediario_munexcluidos[['cod_mun', 'MUNNOMEX','ano','taxa_padronizada_sexo_idade']]"
   ]
  },
  {
   "cell_type": "code",
   "execution_count": null,
   "metadata": {},
   "outputs": [],
   "source": [
    "suicidio_base_geral.head(1).to_csv('valida52_campos_totais.csv')"
   ]
  },
  {
   "cell_type": "code",
   "execution_count": null,
   "metadata": {},
   "outputs": [],
   "source": [
    "#exclui algumas colunas"
   ]
  },
  {
   "cell_type": "code",
   "execution_count": null,
   "metadata": {},
   "outputs": [],
   "source": [
    "suicidio_base_geral_filtrado=suicidio_base_geral.loc[:, ~suicidio_base_geral.columns.isin(['sexo_x','municipio_x','cod_ibge_num_x','sexo_y',\n",
    "                                                              'municipio_y','cod_ibge_num_y','NM_UF','CD_GCMUN',\n",
    "                                                              'MUNCOD_x','NM_MUN','MUNCOD_y','MUNNOME'])]"
   ]
  },
  {
   "cell_type": "code",
   "execution_count": null,
   "metadata": {},
   "outputs": [],
   "source": [
    "suicidio_base_geral_filtrado.to_csv('suicidio_base_geral_filtrada.csv')"
   ]
  },
  {
   "cell_type": "code",
   "execution_count": null,
   "metadata": {},
   "outputs": [],
   "source": [
    "#faz uma base menor"
   ]
  },
  {
   "cell_type": "code",
   "execution_count": 2,
   "metadata": {},
   "outputs": [],
   "source": [
    "suicidio_base_geral = pd.read_csv('suicidio_base_geral.csv', header = 0, low_memory=False, index_col=[0], sep=',', encoding='latin-1')"
   ]
  },
  {
   "cell_type": "code",
   "execution_count": null,
   "metadata": {},
   "outputs": [],
   "source": [
    "suicidio_base_geral.head(1).to_csv('valida52_campos.csv')"
   ]
  },
  {
   "cell_type": "code",
   "execution_count": null,
   "metadata": {},
   "outputs": [],
   "source": [
    "suicidio_base_geral_filtrado2=suicidio_base_geral.loc[:, ~suicidio_base_geral.columns.isin(['sexo_x','municipio_x','cod_ibge_num_x','sexo_y',\n",
    "                                                              'municipio_y','cod_ibge_num_y','NM_UF','CD_GCMUN',\n",
    "                                                              'propwho_75_anos_e_mais','propwho_65_a_74_anos','propwho_55_a_64_anos','propwho_45_a_54_anos','propwho_35_a_44_anos','propwho_25_a_34_anos','propwho_15_a_24_anos','propwho_5_a_14_anos','propwho_0_a_4_anos',\n",
    "                                                              'MUNCOD_x','NM_MUN','MUNCOD_y','MUNNOME', 'join_mse_recente','join_apc_significativo_recente','join_data_fim_recente','join_data_inicio_recente','join_amplitude_APC_recente','join_tendencia_4','join_criterio_conservador_significativo_4','join_mse_4','join_apc_significativo_4','join_data_fim_4','join_data_inicio_4','join_amplitude_APC_4','join_apc_4','join_tendencia_3','join_criterio_conservador_significativo_3','join_mse_3','join_apc_significativo_3','join_data_fim_3','join_data_inicio_3','join_amplitude_APC_3','join_apc_3','join_tendencia_2','join_criterio_conservador_significativo_2','join_mse_2','join_apc_significativo_2','join_data_fim_2','join_data_inicio_2','join_amplitude_APC_2','join_apc_2','join_tendencia_1','join_criterio_conservador_significativo_1','join_mse_1','join_apc_significativo_1','join_data_fim_1','join_data_inicio_1','join_amplitude_APC_1','join_apc_1','join_tendencia_0','join_criterio_conservador_significativo_0','join_mse_0','join_apc_significativo_0','join_data_fim_0','join_data_inicio_0','join_amplitude_APC_0','join_apc_0','ESPTEMP_LOC_POP','ESPTEMP_LOC_RR','ESPTEMP_LOC_ODE','ESPTEMP_LOC_EXP','ESPTEMP_LOC_OBS','ESPTEMP_CLU_POP','ESPTEMP_CLU_RR','ESPTEMP_CLU_ODE','ESPTEMP_CLU_EXP','ESPTEMP_CLU_OBS','ESPTEMP_P_VALUE','ESPACIAL_DATA_REF','ESPACIAL_LOC_POP','ESPACIAL_LOC_RR','ESPACIAL_LOC_ODE','ESPACIAL_LOC_EXP','ESPACIAL_LOC_OBS','ESPACIAL_CLU_POP','ESPACIAL_CLU_RR','ESPACIAL_CLU_ODE','ESPACIAL_CLU_EXP','ESPACIAL_CLU_OBS','ESPACIAL_P_VALUE'])]"
   ]
  },
  {
   "cell_type": "code",
   "execution_count": null,
   "metadata": {},
   "outputs": [],
   "source": [
    "suicidio_base_geral_filtrado2.to_csv('suicidio_base_geral_filtrada2.csv')"
   ]
  },
  {
   "cell_type": "code",
   "execution_count": null,
   "metadata": {},
   "outputs": [],
   "source": [
    "analise_ruralidade = suicidio_base_geral[suicidio_base_geral.ano == 2019][['cod_mun','pop_total','ESPACIAL_CLU_RISCO', 'TIPO','ESPACIAL_CLUSTER']]"
   ]
  },
  {
   "cell_type": "code",
   "execution_count": null,
   "metadata": {},
   "outputs": [],
   "source": [
    "analise_ruralidade.to_csv('analise_ruralidade.csv')"
   ]
  },
  {
   "cell_type": "code",
   "execution_count": null,
   "metadata": {},
   "outputs": [],
   "source": [
    "suicidio_base_geral[suicidio_base_geral.index == 22268] .to_csv('valida53_erro_powerbi.csv')"
   ]
  },
  {
   "cell_type": "code",
   "execution_count": null,
   "metadata": {},
   "outputs": [],
   "source": [
    "#tem muita cidade com idade ignorada, lembrar de não considerar nas minhas contas\n",
    "suicidio_base_geral[suicidio_base_geral.pop_idade_ignorada == 0].groupby(['ano'])['cod_mun'].agg('count')\n",
    "\n",
    "#df.groupby(['Name', 'Fruit'])['Number'].agg('sum')"
   ]
  },
  {
   "cell_type": "code",
   "execution_count": null,
   "metadata": {},
   "outputs": [],
   "source": [
    "suicidio_base_geral[suicidio_base_geral.pop_idade_ignorada == 0].agg('count')"
   ]
  },
  {
   "cell_type": "code",
   "execution_count": null,
   "metadata": {},
   "outputs": [],
   "source": [
    "#validacao dia 21/04: quero entender mapa do power bi se limita taxa"
   ]
  },
  {
   "cell_type": "code",
   "execution_count": null,
   "metadata": {},
   "outputs": [],
   "source": [
    "#suicidio_base_geral, taxa_padronizada_sexo_idade"
   ]
  },
  {
   "cell_type": "code",
   "execution_count": 5,
   "metadata": {},
   "outputs": [],
   "source": [
    "suicidio_teste = suicidio_base_geral[(suicidio_base_geral.ano == 2019) & (suicidio_base_geral.taxa_padronizada_sexo_idade>20)][['SIG_UF','MUNNOMEX','taxa_padronizada_sexo_idade']] "
   ]
  },
  {
   "cell_type": "code",
   "execution_count": 6,
   "metadata": {},
   "outputs": [
    {
     "data": {
      "text/html": [
       "<div>\n",
       "<style scoped>\n",
       "    .dataframe tbody tr th:only-of-type {\n",
       "        vertical-align: middle;\n",
       "    }\n",
       "\n",
       "    .dataframe tbody tr th {\n",
       "        vertical-align: top;\n",
       "    }\n",
       "\n",
       "    .dataframe thead th {\n",
       "        text-align: right;\n",
       "    }\n",
       "</style>\n",
       "<table border=\"1\" class=\"dataframe\">\n",
       "  <thead>\n",
       "    <tr style=\"text-align: right;\">\n",
       "      <th></th>\n",
       "      <th>SIG_UF</th>\n",
       "      <th>MUNNOMEX</th>\n",
       "      <th>taxa_padronizada_sexo_idade</th>\n",
       "    </tr>\n",
       "  </thead>\n",
       "  <tbody>\n",
       "    <tr>\n",
       "      <td>128035</td>\n",
       "      <td>RO</td>\n",
       "      <td>ALTA FLORESTA D'OESTE</td>\n",
       "      <td>22.420654</td>\n",
       "    </tr>\n",
       "    <tr>\n",
       "      <td>128040</td>\n",
       "      <td>RO</td>\n",
       "      <td>COLORADO DO OESTE</td>\n",
       "      <td>20.714307</td>\n",
       "    </tr>\n",
       "    <tr>\n",
       "      <td>128055</td>\n",
       "      <td>RO</td>\n",
       "      <td>SANTA LUZIA D'OESTE</td>\n",
       "      <td>34.764018</td>\n",
       "    </tr>\n",
       "    <tr>\n",
       "      <td>128070</td>\n",
       "      <td>RO</td>\n",
       "      <td>GOVERNADOR JORGE TEIXEIRA</td>\n",
       "      <td>21.002907</td>\n",
       "    </tr>\n",
       "    <tr>\n",
       "      <td>128075</td>\n",
       "      <td>RO</td>\n",
       "      <td>NOVA UNIAO</td>\n",
       "      <td>31.141457</td>\n",
       "    </tr>\n",
       "  </tbody>\n",
       "</table>\n",
       "</div>"
      ],
      "text/plain": [
       "       SIG_UF                   MUNNOMEX  taxa_padronizada_sexo_idade\n",
       "128035     RO      ALTA FLORESTA D'OESTE                    22.420654\n",
       "128040     RO          COLORADO DO OESTE                    20.714307\n",
       "128055     RO        SANTA LUZIA D'OESTE                    34.764018\n",
       "128070     RO  GOVERNADOR JORGE TEIXEIRA                    21.002907\n",
       "128075     RO                 NOVA UNIAO                    31.141457"
      ]
     },
     "execution_count": 6,
     "metadata": {},
     "output_type": "execute_result"
    }
   ],
   "source": [
    "suicidio_teste.head(5)"
   ]
  },
  {
   "cell_type": "code",
   "execution_count": null,
   "metadata": {},
   "outputs": [],
   "source": []
  },
  {
   "cell_type": "code",
   "execution_count": null,
   "metadata": {},
   "outputs": [],
   "source": []
  },
  {
   "cell_type": "code",
   "execution_count": null,
   "metadata": {},
   "outputs": [],
   "source": []
  },
  {
   "cell_type": "code",
   "execution_count": null,
   "metadata": {},
   "outputs": [],
   "source": []
  },
  {
   "cell_type": "code",
   "execution_count": null,
   "metadata": {},
   "outputs": [],
   "source": []
  },
  {
   "cell_type": "code",
   "execution_count": null,
   "metadata": {},
   "outputs": [],
   "source": []
  },
  {
   "cell_type": "markdown",
   "metadata": {},
   "source": [
    "# CÓDIGOS ANTIGOS - DECONSIDERAR"
   ]
  },
  {
   "cell_type": "markdown",
   "metadata": {},
   "source": [
    "## Monta base para análises 2010"
   ]
  },
  {
   "cell_type": "code",
   "execution_count": null,
   "metadata": {},
   "outputs": [],
   "source": [
    "suicidio_2010 = suicidio[suicidio.ano == 2010][['cod_mun','taxa_padronizada','taxa_padronizada_masc','taxa_padronizada_fem','taxa_padronizada_sexo_idade']] "
   ]
  },
  {
   "cell_type": "code",
   "execution_count": null,
   "metadata": {},
   "outputs": [],
   "source": [
    "#suicidio_2010.dtypes"
   ]
  },
  {
   "cell_type": "code",
   "execution_count": null,
   "metadata": {},
   "outputs": [],
   "source": [
    "mapa_2010=mapa2.merge(suicidio_2010, on=['cod_mun'], how='left')  "
   ]
  },
  {
   "cell_type": "code",
   "execution_count": null,
   "metadata": {},
   "outputs": [],
   "source": [
    "#mapa_2010.head(5)"
   ]
  },
  {
   "cell_type": "code",
   "execution_count": null,
   "metadata": {},
   "outputs": [],
   "source": [
    "#procura nulo, achou todos... ufa\n",
    "#mapa_2010[mapa_2010.taxa_padronizada.isnull() ]"
   ]
  },
  {
   "cell_type": "markdown",
   "metadata": {},
   "source": [
    "### Base para 2010 pronta, agora vamos plotar o mapa"
   ]
  },
  {
   "cell_type": "code",
   "execution_count": null,
   "metadata": {},
   "outputs": [],
   "source": [
    "#https://rodrigodutcosky.medium.com/mapas-coropl%C3%A9ticos-com-os-estados-do-brasil-em-python-b9b48c6db585\n",
    "%matplotlib inline\n",
    "\n",
    "mapa_2010.plot(column = 'taxa_padronizada',\n",
    "               cmap ='Reds',\n",
    "               figsize = (50,40),\n",
    "               legend = True,\n",
    "               edgecolor = 'grey'\n",
    "              )"
   ]
  },
  {
   "cell_type": "code",
   "execution_count": null,
   "metadata": {},
   "outputs": [],
   "source": [
    "mapa_2010_outlier=mapa_2010.copy()"
   ]
  },
  {
   "cell_type": "code",
   "execution_count": null,
   "metadata": {},
   "outputs": [],
   "source": [
    "#antes era 20, mudei para 10\n",
    "mapa_2010_outlier['taxa_padronizada'] = np.where(mapa_2010_outlier.taxa_padronizada>10,0,mapa_2010_outlier.taxa_padronizada)\n",
    "mapa_2010_outlier['taxa_padronizada_sexo_idade'] = np.where(mapa_2010_outlier.taxa_padronizada_sexo_idade>10,0,mapa_2010_outlier.taxa_padronizada_sexo_idade)"
   ]
  },
  {
   "cell_type": "code",
   "execution_count": null,
   "metadata": {},
   "outputs": [],
   "source": [
    "#começa com 16,10 figsize\n",
    "%matplotlib inline\n",
    "\n",
    "mapa_2010_outlier.plot(column = 'taxa_padronizada',\n",
    "               cmap ='Reds',\n",
    "               figsize = (50,40),\n",
    "               legend = True,\n",
    "               edgecolor = 'grey'\n",
    "              )"
   ]
  },
  {
   "cell_type": "markdown",
   "metadata": {},
   "source": [
    "## Analisando a taxa padronizada por sexo e idade"
   ]
  },
  {
   "cell_type": "code",
   "execution_count": null,
   "metadata": {},
   "outputs": [],
   "source": [
    "#https://rodrigodutcosky.medium.com/mapas-coropl%C3%A9ticos-com-os-estados-do-brasil-em-python-b9b48c6db585\n",
    "%matplotlib inline\n",
    "\n",
    "mapa_2010.plot(column = 'taxa_padronizada_sexo_idade',\n",
    "               cmap ='Reds',\n",
    "               figsize = (50,40),\n",
    "               legend = True,\n",
    "               edgecolor = 'grey'\n",
    "              )"
   ]
  },
  {
   "cell_type": "code",
   "execution_count": null,
   "metadata": {},
   "outputs": [],
   "source": [
    "#começa com 16,10 figsize\n",
    "%matplotlib inline\n",
    "\n",
    "mapa_2010_outlier.plot(column = 'taxa_padronizada_sexo_idade',\n",
    "               cmap ='Reds',\n",
    "               figsize = (50,40),\n",
    "               legend = True,\n",
    "               edgecolor = 'grey'\n",
    "              )"
   ]
  },
  {
   "cell_type": "markdown",
   "metadata": {},
   "source": [
    "# Suicídio 2019"
   ]
  },
  {
   "cell_type": "code",
   "execution_count": null,
   "metadata": {},
   "outputs": [],
   "source": [
    "suicidio_2019 = suicidio[suicidio.ano == 2019][['cod_mun','taxa_padronizada','taxa_padronizada_masc','taxa_padronizada_fem','taxa_padronizada_sexo_idade']] "
   ]
  },
  {
   "cell_type": "code",
   "execution_count": null,
   "metadata": {},
   "outputs": [],
   "source": [
    "mapa_2019=mapa2.merge(suicidio_2019, on=['cod_mun'], how='left')  "
   ]
  },
  {
   "cell_type": "code",
   "execution_count": null,
   "metadata": {},
   "outputs": [],
   "source": [
    "#procura nulo, achou todos... ufa\n",
    "mapa_2019[mapa_2019.taxa_padronizada.isnull() ]"
   ]
  },
  {
   "cell_type": "markdown",
   "metadata": {},
   "source": [
    "### Base para 2019 pronta, agora vamos plotar o mapa"
   ]
  },
  {
   "cell_type": "code",
   "execution_count": null,
   "metadata": {},
   "outputs": [],
   "source": [
    "#https://rodrigodutcosky.medium.com/mapas-coropl%C3%A9ticos-com-os-estados-do-brasil-em-python-b9b48c6db585\n",
    "%matplotlib inline\n",
    "\n",
    "mapa_2019.plot(column = 'taxa_padronizada',\n",
    "               cmap ='Reds',\n",
    "               figsize = (50,40),\n",
    "               legend = True,\n",
    "               edgecolor = 'grey'\n",
    "              )"
   ]
  },
  {
   "cell_type": "code",
   "execution_count": null,
   "metadata": {},
   "outputs": [],
   "source": [
    "mapa_2019_outlier=mapa_2019.copy()"
   ]
  },
  {
   "cell_type": "code",
   "execution_count": null,
   "metadata": {},
   "outputs": [],
   "source": [
    "mapa_2019_outlier['taxa_padronizada'] = np.where(mapa_2019_outlier.taxa_padronizada>10,0,mapa_2019_outlier.taxa_padronizada)\n",
    "mapa_2019_outlier['taxa_padronizada_sexo_idade'] = np.where(mapa_2019_outlier.taxa_padronizada_sexo_idade>10,0,mapa_2019_outlier.taxa_padronizada_sexo_idade)"
   ]
  },
  {
   "cell_type": "code",
   "execution_count": null,
   "metadata": {},
   "outputs": [],
   "source": [
    "#começa com 16,10 figsize\n",
    "%matplotlib inline\n",
    "\n",
    "mapa_2019_outlier.plot(column = 'taxa_padronizada',\n",
    "               cmap ='Reds',\n",
    "               figsize = (50,40),\n",
    "               legend = True,\n",
    "               edgecolor = 'grey'\n",
    "              )"
   ]
  },
  {
   "cell_type": "markdown",
   "metadata": {},
   "source": [
    "## Analisando a taxa padronizada por sexo e idade"
   ]
  },
  {
   "cell_type": "code",
   "execution_count": null,
   "metadata": {},
   "outputs": [],
   "source": [
    "#https://rodrigodutcosky.medium.com/mapas-coropl%C3%A9ticos-com-os-estados-do-brasil-em-python-b9b48c6db585\n",
    "%matplotlib inline\n",
    "\n",
    "mapa_2019.plot(column = 'taxa_padronizada_sexo_idade',\n",
    "               cmap ='Reds',\n",
    "               figsize = (50,40),\n",
    "               legend = True,\n",
    "               edgecolor = 'grey'\n",
    "              )"
   ]
  },
  {
   "cell_type": "code",
   "execution_count": null,
   "metadata": {},
   "outputs": [],
   "source": [
    "#começa com 16,10 figsize\n",
    "%matplotlib inline\n",
    "\n",
    "mapa_2019_outlier.plot(column = 'taxa_padronizada_sexo_idade',\n",
    "               cmap ='Reds',\n",
    "               figsize = (50,40),\n",
    "               legend = True,\n",
    "               edgecolor = 'grey'\n",
    "              )"
   ]
  },
  {
   "cell_type": "markdown",
   "metadata": {},
   "source": [
    "# Analisa outlier"
   ]
  },
  {
   "cell_type": "code",
   "execution_count": null,
   "metadata": {},
   "outputs": [],
   "source": [
    "suicidio = pd.read_csv('base_suicidio_final.csv', header = 0, low_memory=False, index_col=False, sep=',', encoding='latin-1')"
   ]
  },
  {
   "cell_type": "code",
   "execution_count": null,
   "metadata": {},
   "outputs": [],
   "source": [
    "suicidio.dtypes.to_csv('valida23_campos.csv')"
   ]
  },
  {
   "cell_type": "code",
   "execution_count": null,
   "metadata": {},
   "outputs": [],
   "source": [
    "base_reduzida= suicidio[['ano','cod_mun','suic_total', 'pop_total','taxa_padronizada','taxa_padronizada_masc','taxa_padronizada_fem','taxa_padronizada_sexo_idade']]"
   ]
  },
  {
   "cell_type": "code",
   "execution_count": null,
   "metadata": {},
   "outputs": [],
   "source": [
    "base_reduzida.head(5)"
   ]
  },
  {
   "cell_type": "code",
   "execution_count": null,
   "metadata": {},
   "outputs": [],
   "source": []
  },
  {
   "cell_type": "code",
   "execution_count": null,
   "metadata": {},
   "outputs": [],
   "source": []
  },
  {
   "cell_type": "code",
   "execution_count": null,
   "metadata": {},
   "outputs": [],
   "source": []
  },
  {
   "cell_type": "code",
   "execution_count": null,
   "metadata": {},
   "outputs": [],
   "source": []
  },
  {
   "cell_type": "code",
   "execution_count": null,
   "metadata": {},
   "outputs": [],
   "source": []
  },
  {
   "cell_type": "code",
   "execution_count": null,
   "metadata": {},
   "outputs": [],
   "source": []
  },
  {
   "cell_type": "code",
   "execution_count": null,
   "metadata": {},
   "outputs": [],
   "source": []
  }
 ],
 "metadata": {
  "kernelspec": {
   "display_name": "Python 3",
   "language": "python",
   "name": "python3"
  },
  "language_info": {
   "codemirror_mode": {
    "name": "ipython",
    "version": 3
   },
   "file_extension": ".py",
   "mimetype": "text/x-python",
   "name": "python",
   "nbconvert_exporter": "python",
   "pygments_lexer": "ipython3",
   "version": "3.7.4"
  }
 },
 "nbformat": 4,
 "nbformat_minor": 2
}
